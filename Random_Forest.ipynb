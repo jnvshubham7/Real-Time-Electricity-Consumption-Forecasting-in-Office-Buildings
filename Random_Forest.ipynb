{
  "nbformat": 4,
  "nbformat_minor": 0,
  "metadata": {
    "colab": {
      "provenance": [],
      "gpuType": "T4"
    },
    "kernelspec": {
      "name": "python3",
      "display_name": "Python 3"
    },
    "language_info": {
      "name": "python"
    },
    "accelerator": "GPU"
  },
  "cells": [
    {
      "cell_type": "code",
      "execution_count": null,
      "metadata": {
        "colab": {
          "base_uri": "https://localhost:8080/"
        },
        "id": "LURJK_zaw8ja",
        "outputId": "45f25919-3fc7-44ae-e96b-f8955cbbf33f"
      },
      "outputs": [
        {
          "output_type": "stream",
          "name": "stdout",
          "text": [
            "Drive already mounted at /content/drive; to attempt to forcibly remount, call drive.mount(\"/content/drive\", force_remount=True).\n"
          ]
        }
      ],
      "source": [
        "from google.colab import drive\n",
        "drive.mount('/content/drive')"
      ]
    },
    {
      "cell_type": "code",
      "source": [
        "import pandas as pd\n",
        "from sklearn.ensemble import RandomForestRegressor\n",
        "from sklearn.model_selection import train_test_split\n",
        "from sklearn.metrics import mean_squared_error, r2_score\n",
        "import numpy as np"
      ],
      "metadata": {
        "id": "dysoGlKWyWz3"
      },
      "execution_count": null,
      "outputs": []
    },
    {
      "cell_type": "code",
      "source": [
        "import pandas as pd\n",
        "\n",
        "df = pd.read_csv('/content/drive/MyDrive/datasets/preprocessed2.csv')\n",
        "# df = pd.read_csv('./preprocessed_data.csv')\n",
        "# print(df.head())\n",
        "drive\n",
        "drive.mount('/content/drive')\n",
        "# df = df.replace('- - -',0)\n",
        "# df.dropna()"
      ],
      "metadata": {
        "id": "KdByZ5mKynSb",
        "colab": {
          "base_uri": "https://localhost:8080/"
        },
        "outputId": "a8f14333-8295-4446-b672-405baf8e416a"
      },
      "execution_count": null,
      "outputs": [
        {
          "output_type": "stream",
          "name": "stdout",
          "text": [
            "Drive already mounted at /content/drive; to attempt to forcibly remount, call drive.mount(\"/content/drive\", force_remount=True).\n"
          ]
        }
      ]
    },
    {
      "cell_type": "code",
      "source": [
        "# df.drop()\n",
        "print(df.describe())"
      ],
      "metadata": {
        "colab": {
          "base_uri": "https://localhost:8080/"
        },
        "id": "5NxQo5TBy1GX",
        "outputId": "d5e13c68-faec-457b-f2d9-bca8af9da848"
      },
      "execution_count": null,
      "outputs": [
        {
          "output_type": "stream",
          "name": "stdout",
          "text": [
            "               Date          Time  Global_active_power  Global_reactive_power  \\\n",
            "count  10000.000000  10000.000000         10000.000000           10000.000000   \n",
            "mean   13501.698800  43033.680000             1.744016               0.118801   \n",
            "std        2.036392  24995.239152             1.339772               0.111437   \n",
            "min    13498.000000      0.000000             0.194000               0.000000   \n",
            "25%    13500.000000  21420.000000             0.388000               0.000000   \n",
            "50%    13502.000000  42840.000000             1.478000               0.100000   \n",
            "75%    13503.000000  64920.000000             2.560500               0.178000   \n",
            "max    13505.000000  86340.000000             7.884000               0.724000   \n",
            "\n",
            "            Voltage  Global_intensity  Sub_metering_1  Sub_metering_2  \\\n",
            "count  10000.000000      10000.000000    10000.000000     9998.000000   \n",
            "mean     241.085660          7.376535        0.885277        2.079816   \n",
            "std        3.673307          5.644298        5.479666        7.675109   \n",
            "min      228.910000          0.800000        0.000000        0.000000   \n",
            "25%      238.500000          1.800000        0.000000        0.000000   \n",
            "50%      241.550000          6.200000        0.000000        0.000000   \n",
            "75%      243.920000         10.800000        0.000000        1.000000   \n",
            "max      249.480000         34.200000       40.000000       73.000000   \n",
            "\n",
            "       Sub_metering_3  \n",
            "count     9998.000000  \n",
            "mean         8.242849  \n",
            "std          8.735647  \n",
            "min          0.000000  \n",
            "25%          0.000000  \n",
            "50%          0.000000  \n",
            "75%         17.000000  \n",
            "max         20.000000  \n"
          ]
        }
      ]
    },
    {
      "cell_type": "code",
      "source": [
        "df_new = df.iloc[:,1:]"
      ],
      "metadata": {
        "id": "XB8DAWT9y6Jv"
      },
      "execution_count": null,
      "outputs": []
    },
    {
      "cell_type": "code",
      "source": [
        "data = df_new.to_numpy()"
      ],
      "metadata": {
        "id": "HZQlpt2MzDOj"
      },
      "execution_count": null,
      "outputs": []
    },
    {
      "cell_type": "code",
      "source": [
        "print(len(data[0]))"
      ],
      "metadata": {
        "colab": {
          "base_uri": "https://localhost:8080/"
        },
        "id": "R_rE-4e4zM5u",
        "outputId": "c330693a-23c7-4dee-9b9d-5b05e9d7d86b"
      },
      "execution_count": null,
      "outputs": [
        {
          "output_type": "stream",
          "name": "stdout",
          "text": [
            "8\n"
          ]
        }
      ]
    },
    {
      "cell_type": "code",
      "source": [
        "X = data[:,0:2]\n",
        "Y = data[:,2:]\n",
        "\n",
        "X_train, X_test, y_train, y_test = train_test_split(X, Y, test_size=0.2, random_state=42)"
      ],
      "metadata": {
        "id": "kIFoNamuzQ7Z"
      },
      "execution_count": null,
      "outputs": []
    },
    {
      "cell_type": "code",
      "source": [
        "rf_regressor = RandomForestRegressor(n_estimators=100, random_state=42)\n",
        "model = rf_regressor.fit(X_train, y_train)\n",
        "y_pred = rf_regressor.predict(X_test)\n",
        "\n",
        "\n",
        "# print(y_pred)\n",
        "mse = mean_squared_error(y_test, y_pred)\n",
        "rmse = np.sqrt(mse)\n",
        "r2 = r2_score(y_test, y_pred)\n",
        "\n",
        "print('rmse : ' + str(rmse))\n",
        "print('r2-score : ' + str(r2))"
      ],
      "metadata": {
        "colab": {
          "base_uri": "https://localhost:8080/",
          "height": 410
        },
        "id": "G0jhR7QwzTeT",
        "outputId": "94c38693-5a83-432c-f87e-6f7513f1df09"
      },
      "execution_count": null,
      "outputs": [
        {
          "output_type": "error",
          "ename": "ValueError",
          "evalue": "ignored",
          "traceback": [
            "\u001b[0;31m---------------------------------------------------------------------------\u001b[0m",
            "\u001b[0;31mValueError\u001b[0m                                Traceback (most recent call last)",
            "\u001b[0;32m<ipython-input-113-a01b0df2582e>\u001b[0m in \u001b[0;36m<cell line: 2>\u001b[0;34m()\u001b[0m\n\u001b[1;32m      1\u001b[0m \u001b[0mrf_regressor\u001b[0m \u001b[0;34m=\u001b[0m \u001b[0mRandomForestRegressor\u001b[0m\u001b[0;34m(\u001b[0m\u001b[0mn_estimators\u001b[0m\u001b[0;34m=\u001b[0m\u001b[0;36m100\u001b[0m\u001b[0;34m,\u001b[0m \u001b[0mrandom_state\u001b[0m\u001b[0;34m=\u001b[0m\u001b[0;36m42\u001b[0m\u001b[0;34m)\u001b[0m\u001b[0;34m\u001b[0m\u001b[0;34m\u001b[0m\u001b[0m\n\u001b[0;32m----> 2\u001b[0;31m \u001b[0mmodel\u001b[0m \u001b[0;34m=\u001b[0m \u001b[0mrf_regressor\u001b[0m\u001b[0;34m.\u001b[0m\u001b[0mfit\u001b[0m\u001b[0;34m(\u001b[0m\u001b[0mX_train\u001b[0m\u001b[0;34m,\u001b[0m \u001b[0my_train\u001b[0m\u001b[0;34m)\u001b[0m\u001b[0;34m\u001b[0m\u001b[0;34m\u001b[0m\u001b[0m\n\u001b[0m\u001b[1;32m      3\u001b[0m \u001b[0my_pred\u001b[0m \u001b[0;34m=\u001b[0m \u001b[0mrf_regressor\u001b[0m\u001b[0;34m.\u001b[0m\u001b[0mpredict\u001b[0m\u001b[0;34m(\u001b[0m\u001b[0mX_test\u001b[0m\u001b[0;34m)\u001b[0m\u001b[0;34m\u001b[0m\u001b[0;34m\u001b[0m\u001b[0m\n\u001b[1;32m      4\u001b[0m \u001b[0;34m\u001b[0m\u001b[0m\n\u001b[1;32m      5\u001b[0m \u001b[0;34m\u001b[0m\u001b[0m\n",
            "\u001b[0;32m/usr/local/lib/python3.10/dist-packages/sklearn/ensemble/_forest.py\u001b[0m in \u001b[0;36mfit\u001b[0;34m(self, X, y, sample_weight)\u001b[0m\n\u001b[1;32m    343\u001b[0m         \u001b[0;32mif\u001b[0m \u001b[0missparse\u001b[0m\u001b[0;34m(\u001b[0m\u001b[0my\u001b[0m\u001b[0;34m)\u001b[0m\u001b[0;34m:\u001b[0m\u001b[0;34m\u001b[0m\u001b[0;34m\u001b[0m\u001b[0m\n\u001b[1;32m    344\u001b[0m             \u001b[0;32mraise\u001b[0m \u001b[0mValueError\u001b[0m\u001b[0;34m(\u001b[0m\u001b[0;34m\"sparse multilabel-indicator for y is not supported.\"\u001b[0m\u001b[0;34m)\u001b[0m\u001b[0;34m\u001b[0m\u001b[0;34m\u001b[0m\u001b[0m\n\u001b[0;32m--> 345\u001b[0;31m         X, y = self._validate_data(\n\u001b[0m\u001b[1;32m    346\u001b[0m             \u001b[0mX\u001b[0m\u001b[0;34m,\u001b[0m \u001b[0my\u001b[0m\u001b[0;34m,\u001b[0m \u001b[0mmulti_output\u001b[0m\u001b[0;34m=\u001b[0m\u001b[0;32mTrue\u001b[0m\u001b[0;34m,\u001b[0m \u001b[0maccept_sparse\u001b[0m\u001b[0;34m=\u001b[0m\u001b[0;34m\"csc\"\u001b[0m\u001b[0;34m,\u001b[0m \u001b[0mdtype\u001b[0m\u001b[0;34m=\u001b[0m\u001b[0mDTYPE\u001b[0m\u001b[0;34m\u001b[0m\u001b[0;34m\u001b[0m\u001b[0m\n\u001b[1;32m    347\u001b[0m         )\n",
            "\u001b[0;32m/usr/local/lib/python3.10/dist-packages/sklearn/base.py\u001b[0m in \u001b[0;36m_validate_data\u001b[0;34m(self, X, y, reset, validate_separately, **check_params)\u001b[0m\n\u001b[1;32m    582\u001b[0m                 \u001b[0my\u001b[0m \u001b[0;34m=\u001b[0m \u001b[0mcheck_array\u001b[0m\u001b[0;34m(\u001b[0m\u001b[0my\u001b[0m\u001b[0;34m,\u001b[0m \u001b[0minput_name\u001b[0m\u001b[0;34m=\u001b[0m\u001b[0;34m\"y\"\u001b[0m\u001b[0;34m,\u001b[0m \u001b[0;34m**\u001b[0m\u001b[0mcheck_y_params\u001b[0m\u001b[0;34m)\u001b[0m\u001b[0;34m\u001b[0m\u001b[0;34m\u001b[0m\u001b[0m\n\u001b[1;32m    583\u001b[0m             \u001b[0;32melse\u001b[0m\u001b[0;34m:\u001b[0m\u001b[0;34m\u001b[0m\u001b[0;34m\u001b[0m\u001b[0m\n\u001b[0;32m--> 584\u001b[0;31m                 \u001b[0mX\u001b[0m\u001b[0;34m,\u001b[0m \u001b[0my\u001b[0m \u001b[0;34m=\u001b[0m \u001b[0mcheck_X_y\u001b[0m\u001b[0;34m(\u001b[0m\u001b[0mX\u001b[0m\u001b[0;34m,\u001b[0m \u001b[0my\u001b[0m\u001b[0;34m,\u001b[0m \u001b[0;34m**\u001b[0m\u001b[0mcheck_params\u001b[0m\u001b[0;34m)\u001b[0m\u001b[0;34m\u001b[0m\u001b[0;34m\u001b[0m\u001b[0m\n\u001b[0m\u001b[1;32m    585\u001b[0m             \u001b[0mout\u001b[0m \u001b[0;34m=\u001b[0m \u001b[0mX\u001b[0m\u001b[0;34m,\u001b[0m \u001b[0my\u001b[0m\u001b[0;34m\u001b[0m\u001b[0;34m\u001b[0m\u001b[0m\n\u001b[1;32m    586\u001b[0m \u001b[0;34m\u001b[0m\u001b[0m\n",
            "\u001b[0;32m/usr/local/lib/python3.10/dist-packages/sklearn/utils/validation.py\u001b[0m in \u001b[0;36mcheck_X_y\u001b[0;34m(X, y, accept_sparse, accept_large_sparse, dtype, order, copy, force_all_finite, ensure_2d, allow_nd, multi_output, ensure_min_samples, ensure_min_features, y_numeric, estimator)\u001b[0m\n\u001b[1;32m   1120\u001b[0m     )\n\u001b[1;32m   1121\u001b[0m \u001b[0;34m\u001b[0m\u001b[0m\n\u001b[0;32m-> 1122\u001b[0;31m     \u001b[0my\u001b[0m \u001b[0;34m=\u001b[0m \u001b[0m_check_y\u001b[0m\u001b[0;34m(\u001b[0m\u001b[0my\u001b[0m\u001b[0;34m,\u001b[0m \u001b[0mmulti_output\u001b[0m\u001b[0;34m=\u001b[0m\u001b[0mmulti_output\u001b[0m\u001b[0;34m,\u001b[0m \u001b[0my_numeric\u001b[0m\u001b[0;34m=\u001b[0m\u001b[0my_numeric\u001b[0m\u001b[0;34m,\u001b[0m \u001b[0mestimator\u001b[0m\u001b[0;34m=\u001b[0m\u001b[0mestimator\u001b[0m\u001b[0;34m)\u001b[0m\u001b[0;34m\u001b[0m\u001b[0;34m\u001b[0m\u001b[0m\n\u001b[0m\u001b[1;32m   1123\u001b[0m \u001b[0;34m\u001b[0m\u001b[0m\n\u001b[1;32m   1124\u001b[0m     \u001b[0mcheck_consistent_length\u001b[0m\u001b[0;34m(\u001b[0m\u001b[0mX\u001b[0m\u001b[0;34m,\u001b[0m \u001b[0my\u001b[0m\u001b[0;34m)\u001b[0m\u001b[0;34m\u001b[0m\u001b[0;34m\u001b[0m\u001b[0m\n",
            "\u001b[0;32m/usr/local/lib/python3.10/dist-packages/sklearn/utils/validation.py\u001b[0m in \u001b[0;36m_check_y\u001b[0;34m(y, multi_output, y_numeric, estimator)\u001b[0m\n\u001b[1;32m   1130\u001b[0m     \u001b[0;34m\"\"\"Isolated part of check_X_y dedicated to y validation\"\"\"\u001b[0m\u001b[0;34m\u001b[0m\u001b[0;34m\u001b[0m\u001b[0m\n\u001b[1;32m   1131\u001b[0m     \u001b[0;32mif\u001b[0m \u001b[0mmulti_output\u001b[0m\u001b[0;34m:\u001b[0m\u001b[0;34m\u001b[0m\u001b[0;34m\u001b[0m\u001b[0m\n\u001b[0;32m-> 1132\u001b[0;31m         y = check_array(\n\u001b[0m\u001b[1;32m   1133\u001b[0m             \u001b[0my\u001b[0m\u001b[0;34m,\u001b[0m\u001b[0;34m\u001b[0m\u001b[0;34m\u001b[0m\u001b[0m\n\u001b[1;32m   1134\u001b[0m             \u001b[0maccept_sparse\u001b[0m\u001b[0;34m=\u001b[0m\u001b[0;34m\"csr\"\u001b[0m\u001b[0;34m,\u001b[0m\u001b[0;34m\u001b[0m\u001b[0;34m\u001b[0m\u001b[0m\n",
            "\u001b[0;32m/usr/local/lib/python3.10/dist-packages/sklearn/utils/validation.py\u001b[0m in \u001b[0;36mcheck_array\u001b[0;34m(array, accept_sparse, accept_large_sparse, dtype, order, copy, force_all_finite, ensure_2d, allow_nd, ensure_min_samples, ensure_min_features, estimator, input_name)\u001b[0m\n\u001b[1;32m    919\u001b[0m \u001b[0;34m\u001b[0m\u001b[0m\n\u001b[1;32m    920\u001b[0m         \u001b[0;32mif\u001b[0m \u001b[0mforce_all_finite\u001b[0m\u001b[0;34m:\u001b[0m\u001b[0;34m\u001b[0m\u001b[0;34m\u001b[0m\u001b[0m\n\u001b[0;32m--> 921\u001b[0;31m             _assert_all_finite(\n\u001b[0m\u001b[1;32m    922\u001b[0m                 \u001b[0marray\u001b[0m\u001b[0;34m,\u001b[0m\u001b[0;34m\u001b[0m\u001b[0;34m\u001b[0m\u001b[0m\n\u001b[1;32m    923\u001b[0m                 \u001b[0minput_name\u001b[0m\u001b[0;34m=\u001b[0m\u001b[0minput_name\u001b[0m\u001b[0;34m,\u001b[0m\u001b[0;34m\u001b[0m\u001b[0;34m\u001b[0m\u001b[0m\n",
            "\u001b[0;32m/usr/local/lib/python3.10/dist-packages/sklearn/utils/validation.py\u001b[0m in \u001b[0;36m_assert_all_finite\u001b[0;34m(X, allow_nan, msg_dtype, estimator_name, input_name)\u001b[0m\n\u001b[1;32m    159\u001b[0m                 \u001b[0;34m\"#estimators-that-handle-nan-values\"\u001b[0m\u001b[0;34m\u001b[0m\u001b[0;34m\u001b[0m\u001b[0m\n\u001b[1;32m    160\u001b[0m             )\n\u001b[0;32m--> 161\u001b[0;31m         \u001b[0;32mraise\u001b[0m \u001b[0mValueError\u001b[0m\u001b[0;34m(\u001b[0m\u001b[0mmsg_err\u001b[0m\u001b[0;34m)\u001b[0m\u001b[0;34m\u001b[0m\u001b[0;34m\u001b[0m\u001b[0m\n\u001b[0m\u001b[1;32m    162\u001b[0m \u001b[0;34m\u001b[0m\u001b[0m\n\u001b[1;32m    163\u001b[0m \u001b[0;34m\u001b[0m\u001b[0m\n",
            "\u001b[0;31mValueError\u001b[0m: Input y contains NaN."
          ]
        }
      ]
    },
    {
      "cell_type": "code",
      "source": [
        "from joblib import dump\n",
        "dump(model, 'random_forest_model.joblib')"
      ],
      "metadata": {
        "id": "6ksALM-3zTh7",
        "colab": {
          "base_uri": "https://localhost:8080/"
        },
        "outputId": "b09d66bb-27bd-43f9-fb35-07402b15f843"
      },
      "execution_count": null,
      "outputs": [
        {
          "output_type": "execute_result",
          "data": {
            "text/plain": [
              "['random_forest_model.joblib']"
            ]
          },
          "metadata": {},
          "execution_count": 13
        }
      ]
    },
    {
      "cell_type": "code",
      "source": [],
      "metadata": {
        "id": "5ca7naItNuSS"
      },
      "execution_count": null,
      "outputs": []
    },
    {
      "cell_type": "code",
      "source": [],
      "metadata": {
        "id": "HJAR1djfNuYa"
      },
      "execution_count": null,
      "outputs": []
    },
    {
      "cell_type": "code",
      "source": [],
      "metadata": {
        "id": "zHcBGiN8Nubf"
      },
      "execution_count": null,
      "outputs": []
    },
    {
      "cell_type": "code",
      "source": [],
      "metadata": {
        "id": "b1bclsIBNufK"
      },
      "execution_count": null,
      "outputs": []
    },
    {
      "cell_type": "markdown",
      "source": [
        "# WITH SPARK"
      ],
      "metadata": {
        "id": "SENGtAPxzeMp"
      }
    },
    {
      "cell_type": "code",
      "source": [
        "# !pip install pyspark\n",
        "from pyspark.sql import SparkSession\n",
        "from pyspark.ml import Pipeline\n",
        "from pyspark.ml.feature import VectorAssembler\n",
        "from pyspark.ml.classification import RandomForestClassifier\n",
        "from pyspark.ml.evaluation import MulticlassClassificationEvaluator\n",
        "from sklearn.ensemble import RandomForestRegressor\n",
        "from sklearn.datasets import make_regression\n",
        "from sklearn.model_selection import train_test_split\n",
        "from sklearn.metrics import mean_squared_error\n",
        "import numpy as np"
      ],
      "metadata": {
        "id": "RUJf_DWWziiy"
      },
      "execution_count": null,
      "outputs": []
    },
    {
      "cell_type": "code",
      "source": [
        "df_spark = spark.read.csv(\"/content/drive/MyDrive/datasets/preprocessed_data.csv\", header=True, inferSchema=True)"
      ],
      "metadata": {
        "id": "Jl4X4jEj683M"
      },
      "execution_count": null,
      "outputs": []
    },
    {
      "cell_type": "code",
      "source": [
        "spark = SparkSession.builder.appName(\"RandomForestClassifierExample\").getOrCreate()\n",
        "# Example: Feature Vector Assembly\n",
        "feature_columns = df.columns[0:-1]  # Select relevant feature columns\n",
        "\n",
        "# assembler = VectorAssembler(inputCols=feature_columns, outputCol=\"features\")\n",
        "# df = assembler.transform(df)\n"
      ],
      "metadata": {
        "id": "Y26DY2eIzErh",
        "colab": {
          "base_uri": "https://localhost:8080/",
          "height": 248
        },
        "outputId": "bc58d3f9-6862-42c3-89ed-0d46fcfae1a1"
      },
      "execution_count": null,
      "outputs": [
        {
          "output_type": "error",
          "ename": "NameError",
          "evalue": "ignored",
          "traceback": [
            "\u001b[0;31m---------------------------------------------------------------------------\u001b[0m",
            "\u001b[0;31mNameError\u001b[0m                                 Traceback (most recent call last)",
            "\u001b[0;32m<ipython-input-12-ad7d6a7956e8>\u001b[0m in \u001b[0;36m<cell line: 3>\u001b[0;34m()\u001b[0m\n\u001b[1;32m      1\u001b[0m \u001b[0mspark\u001b[0m \u001b[0;34m=\u001b[0m \u001b[0mSparkSession\u001b[0m\u001b[0;34m.\u001b[0m\u001b[0mbuilder\u001b[0m\u001b[0;34m.\u001b[0m\u001b[0mappName\u001b[0m\u001b[0;34m(\u001b[0m\u001b[0;34m\"RandomForestClassifierExample\"\u001b[0m\u001b[0;34m)\u001b[0m\u001b[0;34m.\u001b[0m\u001b[0mgetOrCreate\u001b[0m\u001b[0;34m(\u001b[0m\u001b[0;34m)\u001b[0m\u001b[0;34m\u001b[0m\u001b[0;34m\u001b[0m\u001b[0m\n\u001b[1;32m      2\u001b[0m \u001b[0;31m# Example: Feature Vector Assembly\u001b[0m\u001b[0;34m\u001b[0m\u001b[0;34m\u001b[0m\u001b[0m\n\u001b[0;32m----> 3\u001b[0;31m \u001b[0mfeature_columns\u001b[0m \u001b[0;34m=\u001b[0m \u001b[0mdf\u001b[0m\u001b[0;34m.\u001b[0m\u001b[0mcolumns\u001b[0m\u001b[0;34m[\u001b[0m\u001b[0;36m0\u001b[0m\u001b[0;34m:\u001b[0m\u001b[0;34m-\u001b[0m\u001b[0;36m1\u001b[0m\u001b[0;34m]\u001b[0m  \u001b[0;31m# Select relevant feature columns\u001b[0m\u001b[0;34m\u001b[0m\u001b[0;34m\u001b[0m\u001b[0m\n\u001b[0m\u001b[1;32m      4\u001b[0m \u001b[0;34m\u001b[0m\u001b[0m\n\u001b[1;32m      5\u001b[0m \u001b[0;31m# assembler = VectorAssembler(inputCols=feature_columns, outputCol=\"features\")\u001b[0m\u001b[0;34m\u001b[0m\u001b[0;34m\u001b[0m\u001b[0m\n",
            "\u001b[0;31mNameError\u001b[0m: name 'df' is not defined"
          ]
        }
      ]
    },
    {
      "cell_type": "code",
      "source": [],
      "metadata": {
        "id": "bKu_0jJB7FX9"
      },
      "execution_count": null,
      "outputs": []
    },
    {
      "cell_type": "code",
      "source": [
        "input_columns = df_spark.columns[1:3]  # Select relevant feature columns\n",
        "# print(input_columns)\n",
        "# print(feature_columns)\n",
        "output_columns = df.columns[3:]\n",
        "# print(output_columns)"
      ],
      "metadata": {
        "id": "8Bvji4Fz0KCQ"
      },
      "execution_count": null,
      "outputs": []
    },
    {
      "cell_type": "code",
      "source": [],
      "metadata": {
        "id": "i_jZn5zZ7HCV"
      },
      "execution_count": null,
      "outputs": []
    },
    {
      "cell_type": "code",
      "source": [
        "# df1 = spark.createDataFrame([(1.0, 2.0, None), (3.0, float(\"nan\"), 4.0), (5.0, 6.0, 7.0)], [\"a\", \"b\", \"c\"])\n",
        "# print(df_spark)\n",
        "# VectorAssembler(inputCols = [\"a\",\"b\",\"c\"], outputCol=\"feat\")transform().show()"
      ],
      "metadata": {
        "id": "96NRKXvW6DKV"
      },
      "execution_count": null,
      "outputs": []
    },
    {
      "cell_type": "code",
      "source": [],
      "metadata": {
        "id": "uFqyohPd6Mqt"
      },
      "execution_count": null,
      "outputs": []
    },
    {
      "cell_type": "code",
      "source": [
        "assembler = VectorAssembler(inputCols=input_columns, outputCol=\"features\")\n",
        "df2 = assembler.transform(df_spark)"
      ],
      "metadata": {
        "id": "DGlOQKb-0TaF"
      },
      "execution_count": null,
      "outputs": []
    },
    {
      "cell_type": "code",
      "source": [
        "df2.show()"
      ],
      "metadata": {
        "colab": {
          "base_uri": "https://localhost:8080/"
        },
        "id": "zDzosW4Q7Jmx",
        "outputId": "9e4a9b53-9fd6-4805-bf61-e68bc5817a98"
      },
      "execution_count": null,
      "outputs": [
        {
          "output_type": "stream",
          "name": "stdout",
          "text": [
            "+---+-----+----+---------+------------------+------------------+------------------+------------------+------------------+------------------+-----+-----+-----+------------------+------------------+------------------+------------------+------------------+------------------+------------------+-----+-----+-----+----+----+----+----+-------------------+------------------+------------------+------+------+------+---------+------------------+------------------+------+------------------+-----+-----+----+-----+------------------+---+------+------+---+-------+------------------+------------------+---+------------------+------+------------------+----+---------+------------------+-----------------+-----+----------+------------------+------------------+---+-----------------+------------------+------------------+----+------------------+-----+------------------+---+------------------+-----+------------------+----+------------------+-------------------+--------------------+----+------------------+------------------+------------------+------------------+------------------+------------------+------------------+------------------+------------------+----------+-----------------+----------+------------------+----------+------------------+----------+-------------+------------------+------------------+------------------+------------------+------------------+------------------+----------------+\n",
            "|_c0| Date|Time|Frequency|            U1 RMS|            U2 RMS|            U3 RMS|            U1 THD|            U2 THD|            U3 THD|U1 CF|U2 CF|U3 CF|            V1 RMS|            V2 RMS|            V3 RMS|         V N-E RMS|            V1 THD|            V2 THD|            V3 THD|V1 CF|V2 CF|V3 CF|Vunb|Pst1|Pst2|Pst3|               Plt1|              Plt2|              Plt3|A1 RMS|A2 RMS|A3 RMS|A N-E RMS|            A1 THD|            A2 THD|A3 THD|             A1 CF|A2 CF|A3 CF|Aunb|  KF1|               KF2|KF3|    W1|    W2| W3|W Total|               Wh1|               Wh2|Wh3|          Wh Total|  var1|              var2|var3|var Total|             varh1|            varh2|varh3|varh Total|               VA1|               VA2|VA3|         VA Total|              VAh1|              VAh2|VAh3|         VAh Total|  PF1|               PF2|PF3|           PF Mean| DPF1|              DPF2|DPF3|          DPF Mean|               Tan1|                Tan2|Tan3|          Tan Mean|        V1 RMS MAX|        V2 RMS MAX|        V3 RMS MAX|     V N-E RMS MAX|        V1 RMS MIN|        V2 RMS MIN|        V3 RMS MIN|     V N-E RMS MIN|A1 RMS MAX|       A2 RMS MAX|A3 RMS MAX|     A N-E RMS MAX|A1 RMS MIN|        A2 RMS MIN|A3 RMS MIN|A N-E RMS MIN|        U1 RMS MAX|        U2 RMS MAX|        U3 RMS MAX|        U1 RMS MIN|        U2 RMS MIN|        U3 RMS MIN|        features|\n",
            "+---+-----+----+---------+------------------+------------------+------------------+------------------+------------------+------------------+-----+-----+-----+------------------+------------------+------------------+------------------+------------------+------------------+------------------+-----+-----+-----+----+----+----+----+-------------------+------------------+------------------+------+------+------+---------+------------------+------------------+------+------------------+-----+-----+----+-----+------------------+---+------+------+---+-------+------------------+------------------+---+------------------+------+------------------+----+---------+------------------+-----------------+-----+----------+------------------+------------------+---+-----------------+------------------+------------------+----+------------------+-----+------------------+---+------------------+-----+------------------+----+------------------+-------------------+--------------------+----+------------------+------------------+------------------+------------------+------------------+------------------+------------------+------------------+------------------+----------+-----------------+----------+------------------+----------+------------------+----------+-------------+------------------+------------------+------------------+------------------+------------------+------------------+----------------+\n",
            "|  6|15537|1200|     50.0|             404.8|403.20000000000005|             404.4|               2.2|               2.2|               2.6| 1.47| 1.47| 1.47|             235.8|             233.7|             230.5|               3.5|               2.5|2.4000000000000004|               2.5| 1.38| 1.38| 1.38| 100|0.41|0.39|0.39|                0.0|               0.0|               0.0|  0.84|  0.47|   0.0|      0.8|              46.5|              23.9|   0.0|              2.32|  2.4|  0.0| 0.0| 6.22|              9.28|0.0|164.57| 73.37|0.0| 237.94|             59.16|             23.39|0.0|             82.55|110.63|32.660000000000004| 0.0|   143.29|             -2.87|              5.7|  0.0|      2.83|            198.29|             93.75|0.0|           292.05|             74.69|             31.03| 0.0|            105.72| 0.83|0.7020000000000001|0.0|             0.766| 0.92|             0.723| 0.0|0.8220000000000001|              0.426|              -0.261| 0.0|0.7020000000000001|237.60000000000002|             235.4|232.60000000000002|3.9000000000000004|             233.8|             230.2|             227.2|               3.1|      0.92|             0.67|       0.0|              0.89|      0.74|               0.1|       0.0|         0.69|             407.8|405.70000000000005|             406.9|             400.5|             398.0|             399.5|[15537.0,1200.0]|\n",
            "|  7|15537|1500|     50.0|             405.6|             403.9|             404.4|2.3000000000000003|               2.2|               2.6| 1.47| 1.47| 1.47|             236.3|             234.4|             230.2|               3.3|               2.6|               2.5|               2.5| 1.38| 1.38| 1.38| 100|0.39|0.54|0.46|                0.0|               0.0|               0.0|  0.87|  0.14|   0.0|     0.75|44.900000000000006|              33.5|   0.0|2.3000000000000003| 3.16|  0.0| 0.0| 5.94|             17.88|0.0|171.98| 17.82|0.0|  189.8|             73.49|             24.87|0.0|             98.36|110.69|            -26.71| 0.0|    83.98|              6.35|             3.48|  0.0|      9.83|            204.63|             32.11|0.0|           236.74|             91.75|             33.71| 0.0|            125.45|0.839|             0.555|0.0|0.6970000000000001|0.925|             0.591| 0.0|             0.759|0.40900000000000003|               -1.36| 0.0|             0.885|             237.9|             235.8|231.60000000000002|               3.6|233.60000000000002|             231.8|227.10000000000002|               2.8|      1.18|             0.14|       0.0|              0.89|      0.72|               0.1|       0.0|          0.7|408.20000000000005|             406.8|             407.6|             401.3|             399.4|             398.9|[15537.0,1500.0]|\n",
            "|  8|15537|1800|    49.99|406.20000000000005|             404.8|             405.6|2.3000000000000003|2.3000000000000003|               2.6| 1.47| 1.47| 1.47|236.60000000000002|             234.7|             231.2|               3.3|               2.6|               2.5|               2.6| 1.38| 1.38| 1.39| 100|0.39|0.55|0.47|                0.0|               0.0|               0.0|  0.86|  0.14|   0.0|     0.74|              46.0|              34.4|   0.0|              2.31| 3.17|  0.0| 0.0|  6.2|             18.45|0.0|169.64| 17.93|0.0| 187.58|             87.63|             26.37|0.0|            113.99|112.38|            -27.03| 0.0|    85.35|             15.72|             1.22|  0.0|     16.94|            203.52|             32.43|0.0|           235.95|            108.71|36.410000000000004| 0.0|            145.12|0.833|             0.553|0.0|0.6930000000000001|0.922|             0.591| 0.0|             0.757|              0.417|               -1.36| 0.0|             0.889|             238.2|             236.8|             233.4|               3.7|             233.8|             231.9|             227.7|2.9000000000000004|      0.94|             0.14|       0.0|              0.78|      0.56|               0.1|       0.0|         0.49|             409.1|407.20000000000005|             408.4|             401.6|             399.3|             400.8|[15537.0,1800.0]|\n",
            "|  9|15537|2100|    49.99|             405.8|             404.4|             405.3|2.3000000000000003|               2.2|               2.6| 1.47| 1.47| 1.47|             236.3|             234.2|             231.3|               3.1|               2.5|2.4000000000000004|               2.5| 1.39| 1.38| 1.39| 100|0.38|0.41| 0.4|                0.0|               0.0|               0.0|   0.6|   0.6|   0.0|     0.59|              12.4|              22.0|   0.0|              1.54|  2.2|  0.0| 0.0| 1.64|              7.24|0.0|107.99| 95.12|0.0| 203.12|             96.63|34.300000000000004|0.0|130.92000000000002| 93.39|             51.96| 0.0|   145.35|              23.5|             5.55|  0.0|     29.06|            142.78|            118.13|0.0|           260.91|             120.6|             46.25| 0.0|            166.86|0.756|             0.746|0.0|             0.752|0.765|             0.765| 0.0|             0.766|              0.843|0.013000000000000001| 0.0|             0.851|238.10000000000002|             236.4|             234.9|               3.5|233.10000000000002|             226.0|227.60000000000002|               2.5|      0.68|             8.69|       0.0|              4.11|      0.54|               0.1|       0.0|         0.49|             408.8|             407.3|             408.4|401.20000000000005|             398.8|400.20000000000005|[15537.0,2100.0]|\n",
            "| 10|15537|2400|     50.0|             406.0|404.70000000000005|             405.4|2.3000000000000003|2.3000000000000003|               2.6| 1.47| 1.47| 1.47|             236.4|             234.5|             231.2|               3.1|               2.6|2.4000000000000004|               2.5| 1.39| 1.38| 1.39| 100|0.38| 0.4|0.39|                0.0|               0.0|               0.0|   0.6|  0.46|   0.0|     0.52|12.600000000000001|              25.5|   0.0|              1.54| 2.47|  0.0| 0.0| 1.68|              9.63|0.0|106.93| 70.23|0.0| 177.16|            105.54|             40.15|0.0|            145.68| 93.18|             28.99| 0.0|   122.17|             31.27|             7.97|  0.0|     39.24|            141.83|             90.66|0.0|            232.5|132.42000000000002|             53.81| 0.0|            186.23|0.754|0.6890000000000001|0.0|             0.722|0.762|             0.715| 0.0|             0.739|              0.849|              -0.326| 0.0|             0.926|             238.5|             236.3|233.10000000000002|               3.8|             233.0|             231.3|             227.8|               2.8|      0.65|             0.67|       0.0|              0.56|      0.52|               0.1|       0.0|         0.48|             409.3|             407.6|             408.3|             401.0|399.70000000000005|             399.4|[15537.0,2400.0]|\n",
            "| 11|15537|2700|     50.0|             405.9|             404.8|             405.3|2.3000000000000003|2.3000000000000003|               2.6| 1.47| 1.47| 1.47|             236.3|             234.9|             230.9|               3.6|               2.6|2.4000000000000004|               2.6| 1.39| 1.38| 1.39| 100|0.44|0.55|0.48|                0.0|               0.0|               0.0|  0.59|  0.14|   0.0|     0.48|              12.8|              35.7|   0.0|              1.51| 3.17|  0.0| 0.0| 1.75|             17.72|0.0|105.78| 17.93|0.0| 123.71|            114.35|             41.64|0.0|            155.99| 92.57|            -27.46| 0.0|    65.11|38.980000000000004|             5.68|  0.0|     44.66|            140.56|             32.79|0.0|           173.36|144.14000000000001|             56.54| 0.0|            200.68|0.753|             0.547|0.0|              0.65|0.761|             0.587| 0.0|             0.674|              0.853| -1.3760000000000001| 0.0|             1.115|             237.8|             236.5|             231.9|               4.2|             233.9|             232.9|             228.0|               3.1|      0.65|             0.14|       0.0|              0.49|      0.51|               0.1|       0.0|         0.48|             408.9|             407.1|             407.9|             402.0|400.20000000000005|             399.9|[15537.0,2700.0]|\n",
            "| 12|15537|3000|    50.01|             406.6|             405.1|             405.9|2.3000000000000003|               2.2|               2.6| 1.47| 1.46| 1.47|             237.0|             235.2|             230.9|               3.7|               2.5|2.4000000000000004|               2.5| 1.39| 1.38| 1.39| 100|0.44|0.56|0.49|                0.0|               0.0|               0.0|  0.61|  0.14|   0.0|     0.49|              15.7|              36.1|   0.0|              1.55| 3.16|  0.0| 0.0| 2.54|             18.03|0.0|112.51| 17.97|0.0| 130.48|            123.73|             43.14|0.0|            166.87| 86.36|            -27.59| 0.0|    58.77|             46.18|             3.38|  0.0|     49.56|            143.01|             32.93|0.0|           175.94|            156.05|             59.29| 0.0|            215.34|0.783|             0.546|0.0|             0.665|0.796|             0.587| 0.0|0.6920000000000001|              0.725| -1.3760000000000001| 0.0|             1.068|             239.0|             236.5|             232.3|4.1000000000000005|             234.7|             233.0|             227.8|               3.2|      0.73|             0.14|       0.0|              0.53|      0.12|               0.1|       0.0|         0.14|409.20000000000005|             407.6|             409.1|             403.0|             401.9|             402.3|[15537.0,3000.0]|\n",
            "| 13|15537|3300|     50.0|             407.6|             405.8|             407.0|2.4000000000000004|2.3000000000000003|               2.6| 1.46| 1.47| 1.47|             237.7|             234.8|             232.2|               3.5|               2.7|2.4000000000000004|               2.6| 1.39| 1.38| 1.39| 100|0.35|0.38|0.42|                0.0|               0.0|               0.0|  0.16|  0.63|   0.0|      0.7|              49.0|              21.0|   0.0|              3.13| 2.07|  0.0| 0.0|11.09|              5.75|0.0| 25.62|103.84|0.0| 129.46|            125.86|             51.79|0.0|            177.65|-29.45|             60.62| 0.0|    31.18|             43.72|             8.44|  0.0|     52.16|             39.03|            127.71|0.0|           166.74|            159.31|             69.93| 0.0|            229.24|0.656|             0.768|0.0|             0.712|0.754|             0.785| 0.0|             0.771|             -0.866| 0.17500000000000002| 0.0|             0.834|239.10000000000002|236.10000000000002|             234.3|4.1000000000000005|             234.9|             226.3|             228.9|2.9000000000000004|       0.2|8.700000000000001|       0.0|              4.54|       0.1|               0.1|       0.0|         0.14|             410.4|             408.5|             410.1|             403.1|             400.4|             401.9|[15537.0,3300.0]|\n",
            "| 14|15537|3600|    49.97|408.20000000000005|             406.5|             407.3|               2.5|2.4000000000000004|               2.8| 1.47| 1.47| 1.47|             237.9|             235.4|             232.3|               3.7|               2.8|               2.5|               2.7| 1.39| 1.38| 1.39| 100|0.34|0.37|0.41|                0.0|               0.0|               0.0|  0.16|  0.41|   0.0|     0.47|              49.2|              27.6|   0.0|              3.16|  2.6|  0.0| 0.0|11.31|             12.23|0.0| 25.64| 60.43|0.0|  86.07|             128.0|             56.83|0.0|            184.83| -29.6|             18.18| 0.0|   -11.43|             41.26|9.950000000000001|  0.0|     51.21|39.160000000000004|             79.95|0.0|           119.11|            162.57|             76.59| 0.0|            239.16|0.655|             0.663|0.0|             0.659|0.752|0.6930000000000001| 0.0|             0.723|             -0.871|              -0.516| 0.0|             0.968|             239.5|             237.3|             233.8|3.9000000000000004|             235.2|             231.5|             229.3|               3.3|      0.21|             0.66|       0.0|              0.72|      0.07|               0.1|       0.0|         0.14|             410.9|             409.3|410.20000000000005|             404.0|             401.3|             401.9|[15537.0,3600.0]|\n",
            "| 15|15537|3900|    49.99|             409.1|             407.3|407.70000000000005|               2.5|               2.5|2.9000000000000004| 1.47| 1.47| 1.47|             238.5|             236.2|232.10000000000002|               3.8|2.9000000000000004|               2.6|               2.8| 1.39| 1.38| 1.39| 100|0.35|0.54| 0.4|                0.0|               0.0|               0.0|  0.16|  0.14|   0.0|     0.15|              48.7|              36.6|   0.0|              3.13| 3.21|  0.0| 0.0|11.27|             19.31|0.0| 25.75| 18.37|0.0|  44.11|130.14000000000001|             58.36|0.0|             188.5|-29.67|             -28.0| 0.0|   -57.66|             38.78|             7.62|  0.0|      46.4|             39.28|33.480000000000004|0.0|            72.76|            165.84|             79.38| 0.0|            245.23|0.656|             0.549|0.0|             0.602|0.751|             0.592| 0.0|             0.673|             -0.875|              -1.357| 0.0|             1.115|             240.0|             237.4|             233.2|               4.2|             235.9|             233.2|229.10000000000002|               3.3|      0.21|             0.14|       0.0|              0.15|       0.1|               0.1|       0.0|         0.14|411.70000000000005|             409.4|410.20000000000005|             404.4|             402.1|             401.5|[15537.0,3900.0]|\n",
            "| 16|15537|4200|     50.0|             409.4|407.70000000000005|             408.1|               2.6|               2.5|2.9000000000000004| 1.47| 1.47| 1.47|             238.5|             236.4|232.60000000000002|               3.5|2.9000000000000004|               2.6|               2.8| 1.39| 1.38| 1.39| 100|0.35|0.55| 0.4|                0.0|               0.0|               0.0|  0.16|  0.14|   0.0|     0.15|48.400000000000006|              37.4|   0.0|              3.11| 3.22|  0.0| 0.0|10.85|              19.2|0.0| 25.73| 18.39|0.0|  44.12|            132.29|             59.89|0.0|            192.18|-29.59|            -28.17| 0.0|   -57.76|             36.32|             5.27|  0.0|     41.59|             39.21|             33.64|0.0|72.85000000000001|            169.11|             82.18| 0.0|             251.3|0.656|             0.547|0.0|             0.602|0.751|             0.591| 0.0|             0.671|             -0.875|              -1.361| 0.0|             1.118|             240.0|             237.8|             233.5|               3.8|235.60000000000002|             233.5|             230.0|               3.1|      0.21|             0.14|       0.0|              0.15|       0.1|               0.1|       0.0|         0.14|             411.9|             409.9|410.70000000000005|             404.9|             403.0|             402.4|[15537.0,4200.0]|\n",
            "| 17|15537|4500|     50.0|             409.5|             408.0|             408.5|               2.6|               2.6|2.9000000000000004| 1.47| 1.47| 1.47|             238.5|236.10000000000002|             233.2|               3.6|2.9000000000000004|               2.6|2.9000000000000004| 1.39| 1.38| 1.39| 100|0.36|0.27|0.41|                0.0|               0.0|               0.0|  0.16|  0.67|   0.0|     0.76|              48.5|              18.2|   0.0|              3.09| 1.87|  0.0| 0.0|11.03|              3.58|0.0| 25.71|120.79|0.0|  146.5|            134.43| 69.96000000000001|0.0|            204.39|-29.42|             78.34| 0.0|    48.92|             33.87|             11.8|  0.0|     45.66|             39.07|147.45000000000002|0.0|           186.52|            172.37|             94.47| 0.0|266.84000000000003|0.658|             0.808|0.0|             0.733|0.753|0.8210000000000001| 0.0|             0.788|              -0.87|               0.506| 0.0|             0.783|             240.2|             237.9|             236.0|3.9000000000000004|             236.3|             228.0|             230.5|               3.2|       0.2|             8.74|       0.0|              4.42|       0.1|               0.1|       0.0|         0.15|             412.3|             410.5|             411.6|405.20000000000005|             402.9|             404.0|[15537.0,4500.0]|\n",
            "| 18|15537|4800|    49.99|             409.3|             407.8|             408.1|               2.6|               2.5|2.9000000000000004| 1.47| 1.47| 1.47|238.60000000000002|236.10000000000002|             232.7|3.9000000000000004|2.9000000000000004|               2.6|2.9000000000000004| 1.39| 1.38|  1.4| 100|0.36|0.25|0.41|                0.0|               0.0|               0.0|  0.16|  0.34|   0.0|     0.39|              48.6|              31.5|   0.0|              3.08| 2.84|  0.0| 0.0|11.09|              15.4|0.0| 25.74| 44.81|0.0|  70.55|            136.58|             73.69|0.0|            210.27| -29.6|              1.39| 0.0|   -28.21|              31.4|            11.91|  0.0|     43.31|39.230000000000004|62.940000000000005|0.0|           102.16|            175.64|             99.72| 0.0|            275.35|0.656|             0.619|0.0|             0.638|0.751|             0.654| 0.0|0.7030000000000001|             -0.874| -0.8220000000000001| 0.0|1.0230000000000001|             240.3|             238.0|234.10000000000002|               4.4|             235.2|             233.2|229.60000000000002|               3.3|      0.21|             0.65|       0.0|              0.72|      0.07|               0.1|       0.0|         0.14|             412.3|             410.0|             410.9|403.70000000000005|             402.8|403.70000000000005|[15537.0,4800.0]|\n",
            "| 19|15537|5100|     50.0|             409.8|             408.4|             409.0|               2.6|               2.6|               3.0| 1.47| 1.47| 1.47|239.10000000000002|             236.2|             233.3|               3.8|               3.0|               2.6|2.9000000000000004| 1.39| 1.38| 1.39| 100|0.41|0.43|0.43|                0.0|               0.0|               0.0|  0.16|  0.14|   0.0|     0.15|              48.5|              37.5|   0.0|              3.04| 3.23|  0.0| 0.0|11.28|             20.32|0.0| 25.81| 18.35|0.0|  44.16|            138.73|             75.22|0.0|            213.95|-29.68|            -28.09| 0.0|   -57.77|             28.93|             9.57|  0.0|      38.5|             39.34|             33.55|0.0|            72.89|            178.91|            102.51| 0.0|            281.43|0.656|             0.547|0.0|             0.602| 0.75|             0.592| 0.0|             0.671|             -0.877|              -1.356| 0.0|             1.118|240.60000000000002|237.60000000000002|             234.8|               4.2|             236.8|             233.7|             230.3|               3.5|       0.2|             0.14|       0.0|              0.15|      0.07|               0.1|       0.0|         0.14|             412.4|             410.6|411.70000000000005|             405.8|             404.1|403.70000000000005|[15537.0,5100.0]|\n",
            "| 20|15537|5400|     50.0|             410.0|             408.3|             409.0|               2.7|               2.6|               3.0| 1.47| 1.47| 1.47|             239.3|             236.3|             233.0|3.9000000000000004|               3.0|               2.7|               3.0| 1.39| 1.38|  1.4| 100|0.41|0.44|0.43|                0.0|               0.0|               0.0|  0.17|  0.31|   0.0|     0.31|49.400000000000006|              37.7|   0.0|              3.12| 3.23|  0.0| 0.0|11.58|20.400000000000002|0.0| 25.99| 22.37|0.0|  48.36|140.89000000000001|             77.08|0.0|            217.98|-30.03|            -24.07| 0.0|   -54.11|             26.42|             7.57|  0.0|     33.99|             39.72|             38.71|0.0|            78.43|            182.22|            105.74| 0.0|            287.96|0.655|             0.551|0.0|             0.603| 0.75|             0.597| 0.0|             0.674|             -0.877|              -1.322| 0.0|              1.11|             240.9|             237.8|             235.9|               4.2|             236.4|             227.7|             229.5|               3.5|      0.21|             8.73|       0.0|4.5200000000000005|      0.07|               0.1|       0.0|         0.14|             412.6|410.70000000000005|             411.8|             405.1|             403.4|             403.1|[15537.0,5400.0]|\n",
            "| 21|15537|5700|     50.0|             409.9|             407.9|             409.1|               2.7|               2.6|               3.1| 1.47| 1.47| 1.47|             239.4|             235.5|             233.5|3.4000000000000004|               3.1|               2.7|               3.0| 1.39| 1.38|  1.4| 100|0.36|0.54|0.46|                0.0|               0.0|               0.0|  0.17|  0.64|   0.0|     0.73|              50.7|              17.0|   0.0|              3.17| 1.74|  0.0| 0.0|11.65|              2.48|0.0| 26.22|125.42|0.0| 151.65|            143.08|             87.54|0.0|            230.61|-30.21|             84.48| 0.0|    54.27|             23.91|            14.61|  0.0|     38.51|             40.01|            151.23|0.0|           191.23|            185.56|            118.34| 0.0|303.90000000000003|0.656|0.8290000000000001|0.0|             0.743|0.756|              0.84| 0.0|             0.799|             -0.862|               0.646| 0.0|             0.754|             240.9|237.10000000000002|             235.3|3.9000000000000004|236.60000000000002|             231.9|             230.8|               3.1|      0.21|             0.69|       0.0|              0.75|      0.07|              0.56|       0.0|         0.71|412.70000000000005|             410.4|             412.1|             405.3|             403.5|403.70000000000005|[15537.0,5700.0]|\n",
            "| 22|15537|6000|     50.0|             410.5|408.70000000000005|             409.9|2.9000000000000004|               2.8|               3.2| 1.47| 1.47| 1.47|             239.4|             236.0|             234.2|3.4000000000000004|               3.3|2.9000000000000004|               3.2| 1.39| 1.38|  1.4| 100|0.36|0.55|0.47|                0.0|               0.0|               0.0|  0.17|  0.32|   0.0|     0.36|              49.8|              34.9|   0.0|              3.15| 2.98|  0.0| 0.0| 12.1|17.330000000000002|0.0| 26.01| 40.37|0.0|  66.38|            145.25|              90.9|0.0|            236.15|-30.23|             -3.83| 0.0|   -34.06|             21.39|            14.29|  0.0|     35.67|             39.88|             58.27|0.0|            98.14|            188.88|             123.2| 0.0|            312.08|0.652|             0.603|0.0|             0.628|0.748|             0.644| 0.0|0.6960000000000001|             -0.883|              -0.911| 0.0|             1.044|             240.9|             237.5|             236.3|               3.8|             237.3|             233.9|             231.0|               3.3|      0.21|             0.65|       0.0|              0.72|      0.07|               0.1|       0.0|         0.15|             413.3|             411.4|412.70000000000005|             405.3|404.20000000000005|404.70000000000005|[15537.0,6000.0]|\n",
            "| 23|15537|6300|    50.01|             407.8|             406.4|             407.3|               2.6|               2.6|               3.0| 1.47| 1.47| 1.47|237.60000000000002|235.10000000000002|232.60000000000002|               3.2|2.9000000000000004|               2.6|2.9000000000000004| 1.39| 1.38| 1.39| 100|0.41|0.49|0.42|                0.0|               0.0|               0.0|  0.16|  0.07|   0.0|     0.13|              48.7|10.200000000000001|   0.0|              3.06| 0.88|  0.0| 0.0|11.29|              5.87|0.0| 25.59|  4.82|0.0|  30.42|            147.38|              91.3|0.0|            238.68|-29.69|             -7.44| 0.0|   -37.12|             18.91|            13.67|  0.0|     32.58|              39.2|              8.86|0.0|            48.06|            192.15|            123.93| 0.0|            316.08|0.653|             0.543|0.0|             0.598|0.749|             0.592| 0.0|             0.669|             -0.881|              -1.356| 0.0|             1.123|             240.8|238.10000000000002|             236.2|               3.6|             231.2|231.60000000000002|             227.9|               2.6|      0.21|             0.14|       0.0|              0.15|      0.07|               0.0|       0.0|         0.12|             413.1|411.70000000000005|413.20000000000005|401.70000000000005|399.70000000000005|             399.3|[15537.0,6300.0]|\n",
            "| 24|15537|6600|    50.02|405.70000000000005|             404.0|             404.9|2.4000000000000004|2.4000000000000004|               2.8| 1.47| 1.47| 1.47|236.60000000000002|             233.9|             230.9|               3.2|               2.7|               2.5|               2.7| 1.38| 1.38| 1.39| 100|0.41|0.48|0.41|                0.0|               0.0|               0.0|  0.16|  0.32|   0.0|     0.36|              47.5|               1.5|   0.0|              2.97| 0.17|  0.0| 0.0|10.32|              0.12|0.0| 25.45|  12.4|0.0|  37.85|             149.5|             92.34|0.0|            241.84|-29.19|             11.51| 0.0|   -17.68|             16.48|            14.63|  0.0|     31.11|38.730000000000004|             17.02|0.0|            55.74|            195.38|            125.35| 0.0|            320.73|0.657|             0.655|0.0|              0.66|0.753|             0.653| 0.0|             0.712|              -0.87| 0.47800000000000004| 0.0|             0.652|238.60000000000002|             235.3|             234.4|               3.6|             234.2|             225.2|             227.9|               2.7|      0.21|8.700000000000001|       0.0|              4.11|       0.1|               0.0|       0.0|         0.12|             408.6|             406.5|             407.6|             400.5|399.20000000000005|             400.6|[15537.0,6600.0]|\n",
            "| 25|15537|6900|     50.0|             405.9|             403.8|             404.9|               2.5|2.4000000000000004|               2.8| 1.47| 1.47| 1.47|             236.5|             233.8|             230.9|               3.2|               2.7|               2.5|               2.7| 1.38| 1.38| 1.39| 100|0.44|0.55|0.45|0.39620012784525904|0.4878007786647367|0.4317271737473877|  0.16|  0.63|   0.0|     0.73|47.900000000000006|              17.7|   0.0|               3.0| 1.77|  0.0| 0.0|10.65|              1.42|0.0| 25.39|113.13|0.0| 138.51|            151.61|            101.76|0.0|            253.38|-29.03|             93.65| 0.0|    64.63|             14.06|            22.43|  0.0|     36.49|             38.56|            146.87|0.0|           185.44|            198.59|            137.59| 0.0|            336.18|0.659|             0.771|0.0|             0.714|0.756|             0.783| 0.0|             0.769|             -0.862|               0.796| 0.0|              0.83|238.10000000000002|             235.3|             232.2|               3.5|             233.8|             230.5|             227.7|               2.8|       0.2|             0.68|       0.0|              0.74|       0.1|0.5700000000000001|       0.0|         0.71|             408.3|             405.8|             407.5|             401.5|399.20000000000005|399.70000000000005|[15537.0,6900.0]|\n",
            "+---+-----+----+---------+------------------+------------------+------------------+------------------+------------------+------------------+-----+-----+-----+------------------+------------------+------------------+------------------+------------------+------------------+------------------+-----+-----+-----+----+----+----+----+-------------------+------------------+------------------+------+------+------+---------+------------------+------------------+------+------------------+-----+-----+----+-----+------------------+---+------+------+---+-------+------------------+------------------+---+------------------+------+------------------+----+---------+------------------+-----------------+-----+----------+------------------+------------------+---+-----------------+------------------+------------------+----+------------------+-----+------------------+---+------------------+-----+------------------+----+------------------+-------------------+--------------------+----+------------------+------------------+------------------+------------------+------------------+------------------+------------------+------------------+------------------+----------+-----------------+----------+------------------+----------+------------------+----------+-------------+------------------+------------------+------------------+------------------+------------------+------------------+----------------+\n",
            "only showing top 20 rows\n",
            "\n"
          ]
        }
      ]
    },
    {
      "cell_type": "code",
      "source": [
        "(trainingData, testData) = df_spark.randomSplit([0.7, 0.3])\n",
        "trainingData = df_spark[1:]"
      ],
      "metadata": {
        "id": "bSxSsnA97eu5",
        "colab": {
          "base_uri": "https://localhost:8080/",
          "height": 334
        },
        "outputId": "4e5a42f7-ba97-4bd8-8035-7a72c6d578c0"
      },
      "execution_count": null,
      "outputs": [
        {
          "output_type": "error",
          "ename": "PySparkTypeError",
          "evalue": "ignored",
          "traceback": [
            "\u001b[0;31m---------------------------------------------------------------------------\u001b[0m",
            "\u001b[0;31mPySparkTypeError\u001b[0m                          Traceback (most recent call last)",
            "\u001b[0;32m<ipython-input-41-ba1f52653eb3>\u001b[0m in \u001b[0;36m<cell line: 2>\u001b[0;34m()\u001b[0m\n\u001b[1;32m      1\u001b[0m \u001b[0;34m(\u001b[0m\u001b[0mtrainingData\u001b[0m\u001b[0;34m,\u001b[0m \u001b[0mtestData\u001b[0m\u001b[0;34m)\u001b[0m \u001b[0;34m=\u001b[0m \u001b[0mdf_spark\u001b[0m\u001b[0;34m.\u001b[0m\u001b[0mrandomSplit\u001b[0m\u001b[0;34m(\u001b[0m\u001b[0;34m[\u001b[0m\u001b[0;36m0.7\u001b[0m\u001b[0;34m,\u001b[0m \u001b[0;36m0.3\u001b[0m\u001b[0;34m]\u001b[0m\u001b[0;34m)\u001b[0m\u001b[0;34m\u001b[0m\u001b[0;34m\u001b[0m\u001b[0m\n\u001b[0;32m----> 2\u001b[0;31m \u001b[0mtrainingData\u001b[0m \u001b[0;34m=\u001b[0m \u001b[0mdf_spark\u001b[0m\u001b[0;34m[\u001b[0m\u001b[0;36m1\u001b[0m\u001b[0;34m:\u001b[0m\u001b[0;34m]\u001b[0m\u001b[0;34m\u001b[0m\u001b[0;34m\u001b[0m\u001b[0m\n\u001b[0m",
            "\u001b[0;32m/usr/local/lib/python3.10/dist-packages/pyspark/sql/dataframe.py\u001b[0m in \u001b[0;36m__getitem__\u001b[0;34m(self, item)\u001b[0m\n\u001b[1;32m   3082\u001b[0m             \u001b[0;32mreturn\u001b[0m \u001b[0mColumn\u001b[0m\u001b[0;34m(\u001b[0m\u001b[0mjc\u001b[0m\u001b[0;34m)\u001b[0m\u001b[0;34m\u001b[0m\u001b[0;34m\u001b[0m\u001b[0m\n\u001b[1;32m   3083\u001b[0m         \u001b[0;32melse\u001b[0m\u001b[0;34m:\u001b[0m\u001b[0;34m\u001b[0m\u001b[0;34m\u001b[0m\u001b[0m\n\u001b[0;32m-> 3084\u001b[0;31m             raise PySparkTypeError(\n\u001b[0m\u001b[1;32m   3085\u001b[0m                 \u001b[0merror_class\u001b[0m\u001b[0;34m=\u001b[0m\u001b[0;34m\"NOT_COLUMN_OR_FLOAT_OR_INT_OR_LIST_OR_STR\"\u001b[0m\u001b[0;34m,\u001b[0m\u001b[0;34m\u001b[0m\u001b[0;34m\u001b[0m\u001b[0m\n\u001b[1;32m   3086\u001b[0m                 \u001b[0mmessage_parameters\u001b[0m\u001b[0;34m=\u001b[0m\u001b[0;34m{\u001b[0m\u001b[0;34m\"arg_name\"\u001b[0m\u001b[0;34m:\u001b[0m \u001b[0;34m\"item\"\u001b[0m\u001b[0;34m,\u001b[0m \u001b[0;34m\"arg_type\"\u001b[0m\u001b[0;34m:\u001b[0m \u001b[0mtype\u001b[0m\u001b[0;34m(\u001b[0m\u001b[0mitem\u001b[0m\u001b[0;34m)\u001b[0m\u001b[0;34m.\u001b[0m\u001b[0m__name__\u001b[0m\u001b[0;34m}\u001b[0m\u001b[0;34m,\u001b[0m\u001b[0;34m\u001b[0m\u001b[0;34m\u001b[0m\u001b[0m\n",
            "\u001b[0;31mPySparkTypeError\u001b[0m: [NOT_COLUMN_OR_FLOAT_OR_INT_OR_LIST_OR_STR] Argument `item` should be a column, float, integer, list or string, got slice."
          ]
        }
      ]
    },
    {
      "cell_type": "code",
      "source": [
        "print(df_spark[1])"
      ],
      "metadata": {
        "colab": {
          "base_uri": "https://localhost:8080/"
        },
        "id": "B3aaW4Hol3XB",
        "outputId": "021f5e07-056c-44bc-c666-bc2be8b1e78f"
      },
      "execution_count": null,
      "outputs": [
        {
          "output_type": "stream",
          "name": "stdout",
          "text": [
            "Column<'Date'>\n"
          ]
        }
      ]
    },
    {
      "cell_type": "code",
      "source": [
        "rf = RandomForestClassifier(labelCol=\"features\", featuresCol=\"features\")"
      ],
      "metadata": {
        "id": "EsQRUKX8071o"
      },
      "execution_count": null,
      "outputs": []
    },
    {
      "cell_type": "code",
      "source": [
        "model = rf.fit(trainingData)"
      ],
      "metadata": {
        "colab": {
          "base_uri": "https://localhost:8080/",
          "height": 376
        },
        "id": "jxg8btIuKDwL",
        "outputId": "a9a1027b-84f8-475e-92d9-30353aa0d581"
      },
      "execution_count": null,
      "outputs": [
        {
          "output_type": "error",
          "ename": "IllegalArgumentException",
          "evalue": "ignored",
          "traceback": [
            "\u001b[0;31m---------------------------------------------------------------------------\u001b[0m",
            "\u001b[0;31mIllegalArgumentException\u001b[0m                  Traceback (most recent call last)",
            "\u001b[0;32m<ipython-input-64-4126f016895a>\u001b[0m in \u001b[0;36m<cell line: 1>\u001b[0;34m()\u001b[0m\n\u001b[0;32m----> 1\u001b[0;31m \u001b[0mmodel\u001b[0m \u001b[0;34m=\u001b[0m \u001b[0mrf\u001b[0m\u001b[0;34m.\u001b[0m\u001b[0mfit\u001b[0m\u001b[0;34m(\u001b[0m\u001b[0mtrainingData\u001b[0m\u001b[0;34m)\u001b[0m\u001b[0;34m\u001b[0m\u001b[0;34m\u001b[0m\u001b[0m\n\u001b[0m",
            "\u001b[0;32m/usr/local/lib/python3.10/dist-packages/pyspark/ml/base.py\u001b[0m in \u001b[0;36mfit\u001b[0;34m(self, dataset, params)\u001b[0m\n\u001b[1;32m    203\u001b[0m                 \u001b[0;32mreturn\u001b[0m \u001b[0mself\u001b[0m\u001b[0;34m.\u001b[0m\u001b[0mcopy\u001b[0m\u001b[0;34m(\u001b[0m\u001b[0mparams\u001b[0m\u001b[0;34m)\u001b[0m\u001b[0;34m.\u001b[0m\u001b[0m_fit\u001b[0m\u001b[0;34m(\u001b[0m\u001b[0mdataset\u001b[0m\u001b[0;34m)\u001b[0m\u001b[0;34m\u001b[0m\u001b[0;34m\u001b[0m\u001b[0m\n\u001b[1;32m    204\u001b[0m             \u001b[0;32melse\u001b[0m\u001b[0;34m:\u001b[0m\u001b[0;34m\u001b[0m\u001b[0;34m\u001b[0m\u001b[0m\n\u001b[0;32m--> 205\u001b[0;31m                 \u001b[0;32mreturn\u001b[0m \u001b[0mself\u001b[0m\u001b[0;34m.\u001b[0m\u001b[0m_fit\u001b[0m\u001b[0;34m(\u001b[0m\u001b[0mdataset\u001b[0m\u001b[0;34m)\u001b[0m\u001b[0;34m\u001b[0m\u001b[0;34m\u001b[0m\u001b[0m\n\u001b[0m\u001b[1;32m    206\u001b[0m         \u001b[0;32melse\u001b[0m\u001b[0;34m:\u001b[0m\u001b[0;34m\u001b[0m\u001b[0;34m\u001b[0m\u001b[0m\n\u001b[1;32m    207\u001b[0m             raise TypeError(\n",
            "\u001b[0;32m/usr/local/lib/python3.10/dist-packages/pyspark/ml/wrapper.py\u001b[0m in \u001b[0;36m_fit\u001b[0;34m(self, dataset)\u001b[0m\n\u001b[1;32m    379\u001b[0m \u001b[0;34m\u001b[0m\u001b[0m\n\u001b[1;32m    380\u001b[0m     \u001b[0;32mdef\u001b[0m \u001b[0m_fit\u001b[0m\u001b[0;34m(\u001b[0m\u001b[0mself\u001b[0m\u001b[0;34m,\u001b[0m \u001b[0mdataset\u001b[0m\u001b[0;34m:\u001b[0m \u001b[0mDataFrame\u001b[0m\u001b[0;34m)\u001b[0m \u001b[0;34m->\u001b[0m \u001b[0mJM\u001b[0m\u001b[0;34m:\u001b[0m\u001b[0;34m\u001b[0m\u001b[0;34m\u001b[0m\u001b[0m\n\u001b[0;32m--> 381\u001b[0;31m         \u001b[0mjava_model\u001b[0m \u001b[0;34m=\u001b[0m \u001b[0mself\u001b[0m\u001b[0;34m.\u001b[0m\u001b[0m_fit_java\u001b[0m\u001b[0;34m(\u001b[0m\u001b[0mdataset\u001b[0m\u001b[0;34m)\u001b[0m\u001b[0;34m\u001b[0m\u001b[0;34m\u001b[0m\u001b[0m\n\u001b[0m\u001b[1;32m    382\u001b[0m         \u001b[0mmodel\u001b[0m \u001b[0;34m=\u001b[0m \u001b[0mself\u001b[0m\u001b[0;34m.\u001b[0m\u001b[0m_create_model\u001b[0m\u001b[0;34m(\u001b[0m\u001b[0mjava_model\u001b[0m\u001b[0;34m)\u001b[0m\u001b[0;34m\u001b[0m\u001b[0;34m\u001b[0m\u001b[0m\n\u001b[1;32m    383\u001b[0m         \u001b[0;32mreturn\u001b[0m \u001b[0mself\u001b[0m\u001b[0;34m.\u001b[0m\u001b[0m_copyValues\u001b[0m\u001b[0;34m(\u001b[0m\u001b[0mmodel\u001b[0m\u001b[0;34m)\u001b[0m\u001b[0;34m\u001b[0m\u001b[0;34m\u001b[0m\u001b[0m\n",
            "\u001b[0;32m/usr/local/lib/python3.10/dist-packages/pyspark/ml/wrapper.py\u001b[0m in \u001b[0;36m_fit_java\u001b[0;34m(self, dataset)\u001b[0m\n\u001b[1;32m    376\u001b[0m \u001b[0;34m\u001b[0m\u001b[0m\n\u001b[1;32m    377\u001b[0m         \u001b[0mself\u001b[0m\u001b[0;34m.\u001b[0m\u001b[0m_transfer_params_to_java\u001b[0m\u001b[0;34m(\u001b[0m\u001b[0;34m)\u001b[0m\u001b[0;34m\u001b[0m\u001b[0;34m\u001b[0m\u001b[0m\n\u001b[0;32m--> 378\u001b[0;31m         \u001b[0;32mreturn\u001b[0m \u001b[0mself\u001b[0m\u001b[0;34m.\u001b[0m\u001b[0m_java_obj\u001b[0m\u001b[0;34m.\u001b[0m\u001b[0mfit\u001b[0m\u001b[0;34m(\u001b[0m\u001b[0mdataset\u001b[0m\u001b[0;34m.\u001b[0m\u001b[0m_jdf\u001b[0m\u001b[0;34m)\u001b[0m\u001b[0;34m\u001b[0m\u001b[0;34m\u001b[0m\u001b[0m\n\u001b[0m\u001b[1;32m    379\u001b[0m \u001b[0;34m\u001b[0m\u001b[0m\n\u001b[1;32m    380\u001b[0m     \u001b[0;32mdef\u001b[0m \u001b[0m_fit\u001b[0m\u001b[0;34m(\u001b[0m\u001b[0mself\u001b[0m\u001b[0;34m,\u001b[0m \u001b[0mdataset\u001b[0m\u001b[0;34m:\u001b[0m \u001b[0mDataFrame\u001b[0m\u001b[0;34m)\u001b[0m \u001b[0;34m->\u001b[0m \u001b[0mJM\u001b[0m\u001b[0;34m:\u001b[0m\u001b[0;34m\u001b[0m\u001b[0;34m\u001b[0m\u001b[0m\n",
            "\u001b[0;32m/usr/local/lib/python3.10/dist-packages/py4j/java_gateway.py\u001b[0m in \u001b[0;36m__call__\u001b[0;34m(self, *args)\u001b[0m\n\u001b[1;32m   1320\u001b[0m \u001b[0;34m\u001b[0m\u001b[0m\n\u001b[1;32m   1321\u001b[0m         \u001b[0manswer\u001b[0m \u001b[0;34m=\u001b[0m \u001b[0mself\u001b[0m\u001b[0;34m.\u001b[0m\u001b[0mgateway_client\u001b[0m\u001b[0;34m.\u001b[0m\u001b[0msend_command\u001b[0m\u001b[0;34m(\u001b[0m\u001b[0mcommand\u001b[0m\u001b[0;34m)\u001b[0m\u001b[0;34m\u001b[0m\u001b[0;34m\u001b[0m\u001b[0m\n\u001b[0;32m-> 1322\u001b[0;31m         return_value = get_return_value(\n\u001b[0m\u001b[1;32m   1323\u001b[0m             answer, self.gateway_client, self.target_id, self.name)\n\u001b[1;32m   1324\u001b[0m \u001b[0;34m\u001b[0m\u001b[0m\n",
            "\u001b[0;32m/usr/local/lib/python3.10/dist-packages/pyspark/errors/exceptions/captured.py\u001b[0m in \u001b[0;36mdeco\u001b[0;34m(*a, **kw)\u001b[0m\n\u001b[1;32m    183\u001b[0m                 \u001b[0;31m# Hide where the exception came from that shows a non-Pythonic\u001b[0m\u001b[0;34m\u001b[0m\u001b[0;34m\u001b[0m\u001b[0m\n\u001b[1;32m    184\u001b[0m                 \u001b[0;31m# JVM exception message.\u001b[0m\u001b[0;34m\u001b[0m\u001b[0;34m\u001b[0m\u001b[0m\n\u001b[0;32m--> 185\u001b[0;31m                 \u001b[0;32mraise\u001b[0m \u001b[0mconverted\u001b[0m \u001b[0;32mfrom\u001b[0m \u001b[0;32mNone\u001b[0m\u001b[0;34m\u001b[0m\u001b[0;34m\u001b[0m\u001b[0m\n\u001b[0m\u001b[1;32m    186\u001b[0m             \u001b[0;32melse\u001b[0m\u001b[0;34m:\u001b[0m\u001b[0;34m\u001b[0m\u001b[0;34m\u001b[0m\u001b[0m\n\u001b[1;32m    187\u001b[0m                 \u001b[0;32mraise\u001b[0m\u001b[0;34m\u001b[0m\u001b[0;34m\u001b[0m\u001b[0m\n",
            "\u001b[0;31mIllegalArgumentException\u001b[0m: features does not exist. Available: _c0, Date, Time, Frequency, U1 RMS, U2 RMS, U3 RMS, U1 THD, U2 THD, U3 THD, U1 CF, U2 CF, U3 CF, V1 RMS, V2 RMS, V3 RMS, V N-E RMS, V1 THD, V2 THD, V3 THD, V1 CF, V2 CF, V3 CF, Vunb, Pst1, Pst2, Pst3, Plt1, Plt2, Plt3, A1 RMS, A2 RMS, A3 RMS, A N-E RMS, A1 THD, A2 THD, A3 THD, A1 CF, A2 CF, A3 CF, Aunb, KF1, KF2, KF3, W1, W2, W3, W Total, Wh1, Wh2, Wh3, Wh Total, var1, var2, var3, var Total, varh1, varh2, varh3, varh Total, VA1, VA2, VA3, VA Total, VAh1, VAh2, VAh3, VAh Total, PF1, PF2, PF3, PF Mean, DPF1, DPF2, DPF3, DPF Mean, Tan1, Tan2, Tan3, Tan Mean, V1 RMS MAX, V2 RMS MAX, V3 RMS MAX, V N-E RMS MAX, V1 RMS MIN, V2 RMS MIN, V3 RMS MIN, V N-E RMS MIN, A1 RMS MAX, A2 RMS MAX, A3 RMS MAX, A N-E RMS MAX, A1 RMS MIN, A2 RMS MIN, A3 RMS MIN, A N-E RMS MIN, U1 RMS MAX, U2 RMS MAX, U3 RMS MAX, U1 RMS MIN, U2 RMS MIN, U3 RMS MIN"
          ]
        }
      ]
    },
    {
      "cell_type": "code",
      "source": [
        "from pyspark.ml.feature import VectorAssembler\n",
        "from pyspark.ml.classification import RandomForestClassifier\n",
        "from pyspark.ml import Pipeline\n",
        "feature_columns = df_spark.columns[1:-1]  # Select relevant feature columns\n",
        "# print(feature_columns)\n",
        "# return\n",
        "# feature_columns = [list of feature column names]\n",
        "assembler = VectorAssembler(inputCols=feature_columns, outputCol=\"features\")\n",
        "\n",
        "classifier = RandomForestClassifier(labelCol=\"label\", featuresCol=\"features\", numTrees=100)\n",
        "\n",
        "pipeline = Pipeline(stages=[assembler, classifier])\n",
        "model = pipeline.fit(train_data)\n",
        "\n"
      ],
      "metadata": {
        "colab": {
          "base_uri": "https://localhost:8080/",
          "height": 230
        },
        "id": "CAbBz32rKIAE",
        "outputId": "c6f7f8f9-61ae-4ad6-8c70-c71755666d0a"
      },
      "execution_count": null,
      "outputs": [
        {
          "output_type": "error",
          "ename": "NameError",
          "evalue": "ignored",
          "traceback": [
            "\u001b[0;31m---------------------------------------------------------------------------\u001b[0m",
            "\u001b[0;31mNameError\u001b[0m                                 Traceback (most recent call last)",
            "\u001b[0;32m<ipython-input-71-7bc5733a051e>\u001b[0m in \u001b[0;36m<cell line: 13>\u001b[0;34m()\u001b[0m\n\u001b[1;32m     11\u001b[0m \u001b[0;34m\u001b[0m\u001b[0m\n\u001b[1;32m     12\u001b[0m \u001b[0mpipeline\u001b[0m \u001b[0;34m=\u001b[0m \u001b[0mPipeline\u001b[0m\u001b[0;34m(\u001b[0m\u001b[0mstages\u001b[0m\u001b[0;34m=\u001b[0m\u001b[0;34m[\u001b[0m\u001b[0massembler\u001b[0m\u001b[0;34m,\u001b[0m \u001b[0mclassifier\u001b[0m\u001b[0;34m]\u001b[0m\u001b[0;34m)\u001b[0m\u001b[0;34m\u001b[0m\u001b[0;34m\u001b[0m\u001b[0m\n\u001b[0;32m---> 13\u001b[0;31m \u001b[0mmodel\u001b[0m \u001b[0;34m=\u001b[0m \u001b[0mpipeline\u001b[0m\u001b[0;34m.\u001b[0m\u001b[0mfit\u001b[0m\u001b[0;34m(\u001b[0m\u001b[0mtrain_data\u001b[0m\u001b[0;34m)\u001b[0m\u001b[0;34m\u001b[0m\u001b[0;34m\u001b[0m\u001b[0m\n\u001b[0m\u001b[1;32m     14\u001b[0m \u001b[0;34m\u001b[0m\u001b[0m\n",
            "\u001b[0;31mNameError\u001b[0m: name 'train_data' is not defined"
          ]
        }
      ]
    },
    {
      "cell_type": "code",
      "source": [
        "predictions = model.transform(test_data)\n",
        "from pyspark.ml.evaluation import MulticlassClassificationEvaluator\n",
        "\n",
        "evaluator = MulticlassClassificationEvaluator(labelCol=\"label\", predictionCol=\"prediction\", metricName=\"accuracy\")\n",
        "accuracy = evaluator.evaluate(predictions)\n",
        "print(f\"Accuracy: {accuracy}\")\n",
        "\n"
      ],
      "metadata": {
        "id": "Xil6h5YGKEfO"
      },
      "execution_count": null,
      "outputs": []
    },
    {
      "cell_type": "code",
      "source": [],
      "metadata": {
        "id": "nUL2XHpsL0pU"
      },
      "execution_count": null,
      "outputs": []
    },
    {
      "cell_type": "code",
      "source": [],
      "metadata": {
        "id": "ubaAOrU4Xvpq"
      },
      "execution_count": null,
      "outputs": []
    },
    {
      "cell_type": "code",
      "source": [],
      "metadata": {
        "id": "y4IneL3xXvmy"
      },
      "execution_count": null,
      "outputs": []
    },
    {
      "cell_type": "code",
      "source": [],
      "metadata": {
        "id": "DBaCDbU5Xvjr"
      },
      "execution_count": null,
      "outputs": []
    },
    {
      "cell_type": "code",
      "source": [],
      "metadata": {
        "id": "3FpeaXZaXvhB"
      },
      "execution_count": null,
      "outputs": []
    },
    {
      "cell_type": "code",
      "source": [
        "!pip install pyspark"
      ],
      "metadata": {
        "id": "UXXTJVTWXveK",
        "colab": {
          "base_uri": "https://localhost:8080/"
        },
        "outputId": "aa6ab45c-6ba4-4b67-8557-7d74d472111b"
      },
      "execution_count": null,
      "outputs": [
        {
          "output_type": "stream",
          "name": "stdout",
          "text": [
            "Collecting pyspark\n",
            "  Downloading pyspark-3.5.0.tar.gz (316.9 MB)\n",
            "\u001b[2K     \u001b[90m━━━━━━━━━━━━━━━━━━━━━━━━━━━━━━━━━━━━━━━━\u001b[0m \u001b[32m316.9/316.9 MB\u001b[0m \u001b[31m2.8 MB/s\u001b[0m eta \u001b[36m0:00:00\u001b[0m\n",
            "\u001b[?25h  Preparing metadata (setup.py) ... \u001b[?25l\u001b[?25hdone\n",
            "Requirement already satisfied: py4j==0.10.9.7 in /usr/local/lib/python3.10/dist-packages (from pyspark) (0.10.9.7)\n",
            "Building wheels for collected packages: pyspark\n",
            "  Building wheel for pyspark (setup.py) ... \u001b[?25l\u001b[?25hdone\n",
            "  Created wheel for pyspark: filename=pyspark-3.5.0-py2.py3-none-any.whl size=317425345 sha256=2e3a441f23778cc55b0e89d04a77849cdfa7bbf7d6d92a2da9b8af048a0ffd7b\n",
            "  Stored in directory: /root/.cache/pip/wheels/41/4e/10/c2cf2467f71c678cfc8a6b9ac9241e5e44a01940da8fbb17fc\n",
            "Successfully built pyspark\n",
            "Installing collected packages: pyspark\n",
            "Successfully installed pyspark-3.5.0\n"
          ]
        }
      ]
    },
    {
      "cell_type": "markdown",
      "source": [
        "#Spark"
      ],
      "metadata": {
        "id": "IzB4Q8OTjKXD"
      }
    },
    {
      "cell_type": "markdown",
      "source": [
        "#Working Code In Spark"
      ],
      "metadata": {
        "id": "Yj4-97F-rlY3"
      }
    },
    {
      "cell_type": "code",
      "source": [
        "from pyspark.ml.regression import RandomForestRegressor,RandomForestRegressionModel\n",
        "from pyspark.ml import Pipeline\n",
        "from pyspark.ml.classification import RandomForestClassificationModel\n",
        "from pyspark.ml.feature import VectorAssembler\n",
        "from pyspark.sql import SparkSession\n",
        "from sklearn.ensemble import RandomForestClassifier\n",
        "from sklearn.datasets import load_iris\n",
        "from sklearn.model_selection import train_test_split\n",
        "from joblib import load\n"
      ],
      "metadata": {
        "id": "V7Huf2f8XvYL"
      },
      "execution_count": null,
      "outputs": []
    },
    {
      "cell_type": "code",
      "source": [
        "# Create a Spark session\n",
        "spark = SparkSession.builder.appName(\"RandomForestRegressionExample\").getOrCreate()\n",
        "\n",
        "# Load the preprocessed data from CSV\n",
        "data = spark.read.csv(\"/content/drive/MyDrive/datasets/preprocessed2.csv\", header=True, inferSchema=True)\n",
        "\n",
        "# Select relevant features and target variables\n",
        "input_features = [\"Date\", \"Time\"]\n",
        "output_features = [col for col in data.columns if col not in [\"_c0\", \"Date\", \"Time\", \"features\"]]"
      ],
      "metadata": {
        "id": "owJ39kIqXvVX"
      },
      "execution_count": null,
      "outputs": []
    },
    {
      "cell_type": "code",
      "source": [
        " # Assemble features into a single vector column\n",
        "assembler = VectorAssembler(inputCols=input_features, outputCol=\"features\")\n",
        "data1 = assembler.transform(data)\n"
      ],
      "metadata": {
        "id": "FW7vk5CTXvEZ"
      },
      "execution_count": null,
      "outputs": []
    },
    {
      "cell_type": "code",
      "source": [
        "# print(data1.head())\n",
        "# columns_to_keep = [col for col  in [\"features\"]]\n",
        "# data = data1.select(*(columns_to_drop))\n",
        "# print(type(data))"
      ],
      "metadata": {
        "id": "APrT0hNqqi2X"
      },
      "execution_count": null,
      "outputs": []
    },
    {
      "cell_type": "code",
      "source": [
        "print(data1.show())"
      ],
      "metadata": {
        "colab": {
          "base_uri": "https://localhost:8080/"
        },
        "id": "Q7MwPbyjt7mf",
        "outputId": "daf7eca6-51db-48d9-806d-4bc356042913"
      },
      "execution_count": null,
      "outputs": [
        {
          "output_type": "stream",
          "name": "stdout",
          "text": [
            "+-----+-----+-------------------+---------------------+-------+----------------+--------------+--------------+--------------+-----------------+\n",
            "| Date| Time|Global_active_power|Global_reactive_power|Voltage|Global_intensity|Sub_metering_1|Sub_metering_2|Sub_metering_3|         features|\n",
            "+-----+-----+-------------------+---------------------+-------+----------------+--------------+--------------+--------------+-----------------+\n",
            "|13498|62640|              4.216|                0.418| 234.84|            18.4|           0.0|           1.0|          17.0|[13498.0,62640.0]|\n",
            "|13498|62700|               5.36|                0.436| 233.63|            23.0|           0.0|           1.0|          16.0|[13498.0,62700.0]|\n",
            "|13498|62760|              5.374|                0.498| 233.29|            23.0|           0.0|           2.0|          17.0|[13498.0,62760.0]|\n",
            "|13498|62820|              5.388|                0.502| 233.74|            23.0|           0.0|           1.0|          17.0|[13498.0,62820.0]|\n",
            "|13498|62880|              3.666|                0.528| 235.68|            15.8|           0.0|           1.0|          17.0|[13498.0,62880.0]|\n",
            "|13498|62940|               3.52|                0.522| 235.02|            15.0|           0.0|           2.0|          17.0|[13498.0,62940.0]|\n",
            "|13498|63000|              3.702|                 0.52| 235.09|            15.8|           0.0|           1.0|          17.0|[13498.0,63000.0]|\n",
            "|13498|63060|                3.7|                 0.52| 235.22|            15.8|           0.0|           1.0|          17.0|[13498.0,63060.0]|\n",
            "|13498|63120|              3.668|                 0.51| 233.99|            15.8|           0.0|           1.0|          17.0|[13498.0,63120.0]|\n",
            "|13498|63180|              3.662|                 0.51| 233.86|            15.8|           0.0|           2.0|          16.0|[13498.0,63180.0]|\n",
            "|13498|63240|              4.448|                0.498| 232.86|            19.6|           0.0|           1.0|          17.0|[13498.0,63240.0]|\n",
            "|13498|63300|              5.412|                 0.47| 232.78|            23.2|           0.0|           1.0|          17.0|[13498.0,63300.0]|\n",
            "|13498|63360|              5.224|                0.478| 232.99|            22.4|           0.0|           1.0|          16.0|[13498.0,63360.0]|\n",
            "|13498|63420|              5.268|                0.398| 232.91|            22.6|           0.0|           2.0|          17.0|[13498.0,63420.0]|\n",
            "|13498|63480|              4.054|                0.422| 235.24|            17.6|           0.0|           1.0|          17.0|[13498.0,63480.0]|\n",
            "|13498|63540|              3.384|                0.282| 237.14|            14.2|           0.0|           0.0|          17.0|[13498.0,63540.0]|\n",
            "|13498|63600|               3.27|                0.152| 236.73|            13.8|           0.0|           0.0|          17.0|[13498.0,63600.0]|\n",
            "|13498|63660|               3.43|                0.156| 237.06|            14.4|           0.0|           0.0|          17.0|[13498.0,63660.0]|\n",
            "|13498|63720|              3.266|                  0.0| 237.13|            13.8|           0.0|           0.0|          18.0|[13498.0,63720.0]|\n",
            "|13498|63780|              3.728|                  0.0| 235.84|            16.4|           0.0|           0.0|          17.0|[13498.0,63780.0]|\n",
            "+-----+-----+-------------------+---------------------+-------+----------------+--------------+--------------+--------------+-----------------+\n",
            "only showing top 20 rows\n",
            "\n",
            "None\n"
          ]
        }
      ]
    },
    {
      "cell_type": "code",
      "source": [
        "# output_features = [col for col in data.columns if col not in [\"_c0\", \"Date\", \"Time\", \"features\"]]"
      ],
      "metadata": {
        "id": "aycNpuKKoJuM"
      },
      "execution_count": null,
      "outputs": []
    },
    {
      "cell_type": "code",
      "source": [
        "# assembler1 = VectorAssembler(inputCols=output_features, outputCol=\"labels\")\n",
        "# data1 = assembler1.transform(data1)"
      ],
      "metadata": {
        "id": "JkKIHNpjiykQ"
      },
      "execution_count": null,
      "outputs": []
    },
    {
      "cell_type": "code",
      "source": [
        "# print(data1.show())"
      ],
      "metadata": {
        "id": "lJSLHCGajChB"
      },
      "execution_count": null,
      "outputs": []
    },
    {
      "cell_type": "code",
      "source": [
        "\n",
        "# Create a Random Forest Regressor\n",
        "rf = RandomForestRegressor(labelCol='Global_active_power', featuresCol=\"features\", numTrees=100)\n",
        "(trainingData, testData) = data1.randomSplit([0.8, 0.2])\n",
        "\n",
        "\n",
        "# pipeline = Pipeline(stages=[assembler, rf])\n"
      ],
      "metadata": {
        "colab": {
          "base_uri": "https://localhost:8080/",
          "height": 53
        },
        "id": "4ASwYYvRsIdv",
        "outputId": "30428d36-33ac-46df-8356-aff43c0f095a"
      },
      "execution_count": null,
      "outputs": [
        {
          "output_type": "execute_result",
          "data": {
            "text/plain": [
              "'\\n# Create a pipeline with the assembler and the regressor\\n# Split the data into training and testing sets\\n'"
            ],
            "application/vnd.google.colaboratory.intrinsic+json": {
              "type": "string"
            }
          },
          "metadata": {},
          "execution_count": 79
        }
      ]
    },
    {
      "cell_type": "code",
      "source": [
        "print(trainingData.show())"
      ],
      "metadata": {
        "colab": {
          "base_uri": "https://localhost:8080/"
        },
        "id": "wbFW30TtrfyD",
        "outputId": "ba66024e-a827-4148-ea5e-77b59260cc23"
      },
      "execution_count": null,
      "outputs": [
        {
          "output_type": "stream",
          "name": "stdout",
          "text": [
            "+-----+-----+-------------------+---------------------+-------+----------------+--------------+--------------+--------------+-----------------+\n",
            "| Date| Time|Global_active_power|Global_reactive_power|Voltage|Global_intensity|Sub_metering_1|Sub_metering_2|Sub_metering_3|         features|\n",
            "+-----+-----+-------------------+---------------------+-------+----------------+--------------+--------------+--------------+-----------------+\n",
            "|13498|62820|              5.388|                0.502| 233.74|            23.0|           0.0|           1.0|          17.0|[13498.0,62820.0]|\n",
            "|13498|62940|               3.52|                0.522| 235.02|            15.0|           0.0|           2.0|          17.0|[13498.0,62940.0]|\n",
            "|13498|63000|              3.702|                 0.52| 235.09|            15.8|           0.0|           1.0|          17.0|[13498.0,63000.0]|\n",
            "|13498|63060|                3.7|                 0.52| 235.22|            15.8|           0.0|           1.0|          17.0|[13498.0,63060.0]|\n",
            "|13498|63120|              3.668|                 0.51| 233.99|            15.8|           0.0|           1.0|          17.0|[13498.0,63120.0]|\n",
            "|13498|63180|              3.662|                 0.51| 233.86|            15.8|           0.0|           2.0|          16.0|[13498.0,63180.0]|\n",
            "|13498|63240|              4.448|                0.498| 232.86|            19.6|           0.0|           1.0|          17.0|[13498.0,63240.0]|\n",
            "|13498|63300|              5.412|                 0.47| 232.78|            23.2|           0.0|           1.0|          17.0|[13498.0,63300.0]|\n",
            "|13498|63420|              5.268|                0.398| 232.91|            22.6|           0.0|           2.0|          17.0|[13498.0,63420.0]|\n",
            "|13498|63480|              4.054|                0.422| 235.24|            17.6|           0.0|           1.0|          17.0|[13498.0,63480.0]|\n",
            "|13498|63540|              3.384|                0.282| 237.14|            14.2|           0.0|           0.0|          17.0|[13498.0,63540.0]|\n",
            "|13498|63600|               3.27|                0.152| 236.73|            13.8|           0.0|           0.0|          17.0|[13498.0,63600.0]|\n",
            "|13498|63660|               3.43|                0.156| 237.06|            14.4|           0.0|           0.0|          17.0|[13498.0,63660.0]|\n",
            "|13498|63720|              3.266|                  0.0| 237.13|            13.8|           0.0|           0.0|          18.0|[13498.0,63720.0]|\n",
            "|13498|63780|              3.728|                  0.0| 235.84|            16.4|           0.0|           0.0|          17.0|[13498.0,63780.0]|\n",
            "|13498|63900|              7.706|                  0.0| 230.98|            33.2|           0.0|           0.0|          17.0|[13498.0,63900.0]|\n",
            "|13498|63960|              7.026|                  0.0| 232.21|            30.6|           0.0|           0.0|          16.0|[13498.0,63960.0]|\n",
            "|13498|64020|              5.174|                  0.0| 234.19|            22.0|           0.0|           0.0|          17.0|[13498.0,64020.0]|\n",
            "|13498|64080|              4.474|                  0.0| 234.96|            19.4|           0.0|           0.0|          17.0|[13498.0,64080.0]|\n",
            "|13498|64140|              3.248|                  0.0| 236.66|            13.6|           0.0|           0.0|          17.0|[13498.0,64140.0]|\n",
            "+-----+-----+-------------------+---------------------+-------+----------------+--------------+--------------+--------------+-----------------+\n",
            "only showing top 20 rows\n",
            "\n",
            "None\n"
          ]
        }
      ]
    },
    {
      "cell_type": "markdown",
      "source": [
        "#Making prediction"
      ],
      "metadata": {
        "id": "77RQOErTNPwS"
      }
    },
    {
      "cell_type": "code",
      "source": [
        "model = rf.fit(trainingData)\n",
        "\n",
        "# Make predictions on the test set\n",
        "predictions = model.transform(testData)\n",
        "\n",
        "# Show predictions\n",
        "predictions.select(\"Date\", \"Time\", \"prediction\").show()"
      ],
      "metadata": {
        "id": "Jq47DAnVXu-d",
        "colab": {
          "base_uri": "https://localhost:8080/"
        },
        "outputId": "c786e052-ba16-4b31-d7b0-a08a3c809a37"
      },
      "execution_count": null,
      "outputs": [
        {
          "output_type": "stream",
          "name": "stdout",
          "text": [
            "+-----+-----+-----------------+\n",
            "| Date| Time|       prediction|\n",
            "+-----+-----+-----------------+\n",
            "|13498|62640|3.186776598021442|\n",
            "|13498|62700|3.186776598021442|\n",
            "|13498|62760|3.186776598021442|\n",
            "|13498|62880|3.186776598021442|\n",
            "|13498|63360|3.186776598021442|\n",
            "|13498|63840|3.186776598021442|\n",
            "|13498|64440|3.186776598021442|\n",
            "|13498|64560|3.186776598021442|\n",
            "|13498|65160|3.190753371662782|\n",
            "|13498|65220|3.190753371662782|\n",
            "|13498|65280|3.190753371662782|\n",
            "|13498|65580|3.190753371662782|\n",
            "|13498|65880|3.190753371662782|\n",
            "|13498|66180|3.190753371662782|\n",
            "|13498|67260|3.190753371662782|\n",
            "|13498|67620|3.190753371662782|\n",
            "|13498|67860|3.166534562093986|\n",
            "|13498|67980|3.166534562093986|\n",
            "|13498|68100|3.166534562093986|\n",
            "|13498|68160|3.166534562093986|\n",
            "+-----+-----+-----------------+\n",
            "only showing top 20 rows\n",
            "\n"
          ]
        }
      ]
    },
    {
      "cell_type": "markdown",
      "source": [
        "#Getting MSE"
      ],
      "metadata": {
        "id": "914kwdt9NAPl"
      }
    },
    {
      "cell_type": "code",
      "source": [
        "from pyspark.ml.evaluation import RegressionEvaluator\n",
        "evaluator = RegressionEvaluator(labelCol=\"Global_reactive_power\", predictionCol=\"prediction\", metricName=\"rmse\")\n",
        "r2 = evaluator.evaluate(predictions)\n",
        "print(r2)\n"
      ],
      "metadata": {
        "colab": {
          "base_uri": "https://localhost:8080/"
        },
        "id": "n23F7KrlyMcb",
        "outputId": "c3e2fe66-e319-41d3-fa49-9a32296e6365"
      },
      "execution_count": null,
      "outputs": [
        {
          "output_type": "stream",
          "name": "stdout",
          "text": [
            "1.822015572618956\n"
          ]
        }
      ]
    },
    {
      "cell_type": "markdown",
      "source": [
        "#Saving Model\n"
      ],
      "metadata": {
        "id": "mh3w5RgfMqVF"
      }
    },
    {
      "cell_type": "code",
      "source": [
        "model_path = './' + \"/rfr_model_\"\n",
        "model.save(model_path)"
      ],
      "metadata": {
        "id": "LkU96yGXePHX"
      },
      "execution_count": null,
      "outputs": []
    },
    {
      "cell_type": "markdown",
      "source": [
        "#Loading Model"
      ],
      "metadata": {
        "id": "kr7uPYQaM0y8"
      }
    },
    {
      "cell_type": "code",
      "source": [
        "model2 = RandomForestRegressionModel.load(model_path)\n",
        "res = model2.transform(testData)\n",
        "print(res.show())"
      ],
      "metadata": {
        "colab": {
          "base_uri": "https://localhost:8080/"
        },
        "id": "KlfIULJsKrF_",
        "outputId": "61654510-316b-477d-f800-e695d031cc34"
      },
      "execution_count": null,
      "outputs": [
        {
          "output_type": "stream",
          "name": "stdout",
          "text": [
            "+-----+-----+-------------------+---------------------+-------+----------------+--------------+--------------+--------------+-----------------+-----------------+\n",
            "| Date| Time|Global_active_power|Global_reactive_power|Voltage|Global_intensity|Sub_metering_1|Sub_metering_2|Sub_metering_3|         features|       prediction|\n",
            "+-----+-----+-------------------+---------------------+-------+----------------+--------------+--------------+--------------+-----------------+-----------------+\n",
            "|13498|62640|              4.216|                0.418| 234.84|            18.4|           0.0|           1.0|          17.0|[13498.0,62640.0]|3.186776598021442|\n",
            "|13498|62700|               5.36|                0.436| 233.63|            23.0|           0.0|           1.0|          16.0|[13498.0,62700.0]|3.186776598021442|\n",
            "|13498|62760|              5.374|                0.498| 233.29|            23.0|           0.0|           2.0|          17.0|[13498.0,62760.0]|3.186776598021442|\n",
            "|13498|62880|              3.666|                0.528| 235.68|            15.8|           0.0|           1.0|          17.0|[13498.0,62880.0]|3.186776598021442|\n",
            "|13498|63360|              5.224|                0.478| 232.99|            22.4|           0.0|           1.0|          16.0|[13498.0,63360.0]|3.186776598021442|\n",
            "|13498|63840|              5.894|                  0.0| 232.69|            25.4|           0.0|           0.0|          16.0|[13498.0,63840.0]|3.186776598021442|\n",
            "|13498|64440|               2.72|                  0.0| 235.06|            11.6|           0.0|           0.0|          17.0|[13498.0,64440.0]|3.186776598021442|\n",
            "|13498|64560|              4.342|                 0.09| 233.77|            18.4|           0.0|           0.0|          16.0|[13498.0,64560.0]|3.186776598021442|\n",
            "|13498|65160|              6.752|                0.186| 232.12|            29.0|           0.0|          36.0|          17.0|[13498.0,65160.0]|3.190753371662782|\n",
            "|13498|65220|              6.474|                0.144| 231.85|            27.8|           0.0|          37.0|          16.0|[13498.0,65220.0]|3.190753371662782|\n",
            "|13498|65280|              6.308|                0.116| 232.25|            27.0|           0.0|          36.0|          17.0|[13498.0,65280.0]|3.190753371662782|\n",
            "|13498|65580|              2.308|                 0.16| 237.43|             9.6|           0.0|           1.0|          17.0|[13498.0,65580.0]|3.190753371662782|\n",
            "|13498|65880|              4.472|                  0.0| 233.29|            19.2|           0.0|           1.0|          16.0|[13498.0,65880.0]|3.190753371662782|\n",
            "|13498|66180|              2.926|                  0.0| 235.68|            12.4|           0.0|           1.0|          17.0|[13498.0,66180.0]|3.190753371662782|\n",
            "|13498|67260|               2.27|                0.054| 235.27|             9.6|           0.0|           1.0|          17.0|[13498.0,67260.0]|3.190753371662782|\n",
            "|13498|67620|              4.218|                0.178| 233.98|            18.0|           0.0|           1.0|          17.0|[13498.0,67620.0]|3.190753371662782|\n",
            "|13498|67860|              2.336|                 0.07| 233.51|            10.0|           0.0|           1.0|          16.0|[13498.0,67860.0]|3.166534562093986|\n",
            "|13498|67980|              2.448|                  0.0| 233.64|            10.6|           0.0|           1.0|          17.0|[13498.0,67980.0]|3.166534562093986|\n",
            "|13498|68100|               4.23|                 0.09| 232.25|            18.2|           0.0|           1.0|          17.0|[13498.0,68100.0]|3.166534562093986|\n",
            "|13498|68160|               4.23|                 0.09| 232.32|            18.2|           0.0|           2.0|          16.0|[13498.0,68160.0]|3.166534562093986|\n",
            "+-----+-----+-------------------+---------------------+-------+----------------+--------------+--------------+--------------+-----------------+-----------------+\n",
            "only showing top 20 rows\n",
            "\n",
            "None\n"
          ]
        }
      ]
    },
    {
      "cell_type": "code",
      "source": [
        "spark.stop()"
      ],
      "metadata": {
        "id": "irD3_D0xNq-O"
      },
      "execution_count": null,
      "outputs": []
    },
    {
      "cell_type": "code",
      "source": [
        "import os\n",
        "os.system('zip -r model.zip /content/rfr_model')"
      ],
      "metadata": {
        "colab": {
          "base_uri": "https://localhost:8080/"
        },
        "id": "ruhU9DwRSYr-",
        "outputId": "57ff912c-32aa-477d-8c54-13c463ea40ed"
      },
      "execution_count": null,
      "outputs": [
        {
          "output_type": "execute_result",
          "data": {
            "text/plain": [
              "0"
            ]
          },
          "metadata": {},
          "execution_count": 114
        }
      ]
    },
    {
      "cell_type": "code",
      "source": [],
      "metadata": {
        "id": "l3fqZtVYTTDw"
      },
      "execution_count": null,
      "outputs": []
    }
  ]
}